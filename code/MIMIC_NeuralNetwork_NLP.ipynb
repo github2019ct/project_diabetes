{
 "cells": [
  {
   "cell_type": "code",
   "execution_count": 1,
   "metadata": {},
   "outputs": [
    {
     "name": "stderr",
     "output_type": "stream",
     "text": [
      "Using TensorFlow backend.\n"
     ]
    }
   ],
   "source": [
    "import pandas as pd\n",
    "import numpy as np\n",
    "from numpy import array\n",
    "from keras.preprocessing.text import one_hot\n",
    "from keras.preprocessing.sequence import pad_sequences\n",
    "from keras.models import Sequential\n",
    "from keras.layers import Dense\n",
    "from keras.layers import Flatten, Conv2D, MaxPooling2D\n",
    "from keras.layers.embeddings import Embedding\n",
    "from keras.preprocessing.text import Tokenizer\n",
    "from keras.preprocessing.sequence import pad_sequences\n",
    "\n",
    "from sklearn.feature_extraction import text\n",
    "from sklearn.feature_extraction.text import CountVectorizer, TfidfVectorizer\n",
    "from sklearn.model_selection import train_test_split\n",
    "from imblearn.over_sampling import SMOTE\n",
    "from keras import regularizers\n",
    "from keras.layers import Dropout\n",
    "from keras.callbacks import EarlyStopping\n",
    "\n",
    "import matplotlib.pyplot as plt\n",
    "%matplotlib inline"
   ]
  },
  {
   "cell_type": "code",
   "execution_count": 2,
   "metadata": {},
   "outputs": [],
   "source": [
    "df = pd.read_csv('../data/MIMIC_train_test.csv')\n",
    "df.drop(columns='Unnamed: 0',inplace=True)"
   ]
  },
  {
   "cell_type": "code",
   "execution_count": 45,
   "metadata": {},
   "outputs": [],
   "source": [
    "# Split the train and test data\n",
    "X = df['text_list']\n",
    "y = df['label']\n",
    "\n",
    "X_train, X_test, y_train, y_test = train_test_split(X,\n",
    "                                                    y,\n",
    "                                                    random_state = 42)"
   ]
  },
  {
   "cell_type": "markdown",
   "metadata": {},
   "source": [
    "### The maxmum length of each row in range of 4 - 100"
   ]
  },
  {
   "cell_type": "code",
   "execution_count": 4,
   "metadata": {},
   "outputs": [],
   "source": [
    "# prepare tokenizer\n",
    "\n",
    "t = Tokenizer(num_words=1000)\n",
    "t.fit_on_texts(X_train)\n",
    "vocab_size = len(t.word_index) + 1\n",
    "# # integer encode the documents\n",
    "encoded_docs = t.texts_to_sequences(X_train)\n",
    "encoded_docs_test = t.texts_to_sequences(X_test)\n",
    "# pad documents to a max length of 4 words\n",
    "max_length = 4\n",
    "padded_docs = pad_sequences(encoded_docs, maxlen=max_length, padding='post')\n",
    "padded_docs_test = pad_sequences(encoded_docs_test, maxlen=max_length, padding='post')"
   ]
  },
  {
   "cell_type": "code",
   "execution_count": 19,
   "metadata": {},
   "outputs": [
    {
     "data": {
      "text/plain": [
       "array([121, 207, 398,  38], dtype=int32)"
      ]
     },
     "execution_count": 19,
     "metadata": {},
     "output_type": "execute_result"
    }
   ],
   "source": [
    "padded_docs[4]"
   ]
  },
  {
   "cell_type": "code",
   "execution_count": 166,
   "metadata": {},
   "outputs": [],
   "source": [
    "# change the max_length to 20\n",
    "max_length = 20\n",
    "padded_docs_1 = pad_sequences(encoded_docs, maxlen=max_length, padding='post')\n",
    "padded_docs_test_1 = pad_sequences(encoded_docs_test, maxlen=max_length, padding='post')"
   ]
  },
  {
   "cell_type": "code",
   "execution_count": 185,
   "metadata": {},
   "outputs": [],
   "source": [
    "# change the max_length to 50\n",
    "max_length = 50\n",
    "padded_docs_2 = pad_sequences(encoded_docs, maxlen=max_length, padding='post')\n",
    "padded_docs_test_2 = pad_sequences(encoded_docs_test, maxlen=max_length, padding='post')"
   ]
  },
  {
   "cell_type": "code",
   "execution_count": 189,
   "metadata": {},
   "outputs": [],
   "source": [
    "# change the max_length to 100\n",
    "max_length = 100\n",
    "padded_docs_3 = pad_sequences(encoded_docs, maxlen=max_length, padding='post')\n",
    "padded_docs_test_3 = pad_sequences(encoded_docs_test, maxlen=max_length, padding='post')"
   ]
  },
  {
   "cell_type": "code",
   "execution_count": 46,
   "metadata": {},
   "outputs": [],
   "source": [
    "# change the max_length to 100\n",
    "max_length = 80\n",
    "padded_docs_4 = pad_sequences(encoded_docs, maxlen=max_length, padding='post')\n",
    "padded_docs_test_4 = pad_sequences(encoded_docs_test, maxlen=max_length, padding='post')"
   ]
  },
  {
   "cell_type": "code",
   "execution_count": 21,
   "metadata": {},
   "outputs": [
    {
     "data": {
      "text/plain": [
       "42825"
      ]
     },
     "execution_count": 21,
     "metadata": {},
     "output_type": "execute_result"
    }
   ],
   "source": [
    "vocab_size"
   ]
  },
  {
   "cell_type": "code",
   "execution_count": 47,
   "metadata": {},
   "outputs": [],
   "source": [
    "y_train = array(y_train)\n",
    "y_test = array(y_test)"
   ]
  },
  {
   "cell_type": "code",
   "execution_count": 48,
   "metadata": {},
   "outputs": [],
   "source": [
    "smt = SMOTE()"
   ]
  },
  {
   "cell_type": "code",
   "execution_count": 49,
   "metadata": {},
   "outputs": [
    {
     "name": "stdout",
     "output_type": "stream",
     "text": [
      "8996 8996\n",
      "3020 3020\n"
     ]
    }
   ],
   "source": [
    "\n",
    "X_train_sm, y_train_sm = smt.fit_sample(padded_docs, y_train)\n",
    "X_test_sm, y_test_sm = smt.fit_sample(padded_docs_test, y_test)\n",
    "print(len(X_train_sm), len(y_train_sm))\n",
    "print(len(X_test_sm), len(y_test_sm))"
   ]
  },
  {
   "cell_type": "code",
   "execution_count": 175,
   "metadata": {},
   "outputs": [
    {
     "data": {
      "text/plain": [
       "array([[179, 454, 454, 207],\n",
       "       [ 10, 132, 398,  38],\n",
       "       [109, 106, 398,  38],\n",
       "       ...,\n",
       "       [117,  74,  48,  88],\n",
       "       [179, 454, 454, 207],\n",
       "       [ 10, 132, 398,  38]], dtype=int32)"
      ]
     },
     "execution_count": 175,
     "metadata": {},
     "output_type": "execute_result"
    }
   ],
   "source": [
    "X_train_sm"
   ]
  },
  {
   "cell_type": "code",
   "execution_count": 170,
   "metadata": {},
   "outputs": [
    {
     "name": "stdout",
     "output_type": "stream",
     "text": [
      "8996 8996\n",
      "3020 3020\n"
     ]
    }
   ],
   "source": [
    "X_train_sm_1, y_train_sm_1 = smt.fit_sample(padded_docs_1, y_train)\n",
    "X_test_sm_1, y_test_sm_1 = smt.fit_sample(padded_docs_test_1, y_test)\n",
    "print(len(X_train_sm_1), len(y_train_sm_1))\n",
    "print(len(X_test_sm_1), len(y_test_sm_1))"
   ]
  },
  {
   "cell_type": "code",
   "execution_count": 171,
   "metadata": {},
   "outputs": [
    {
     "data": {
      "text/plain": [
       "array([ 10, 132, 432,  32,  22, 271,  32,  22,  82,  10, 132, 727,  77,\n",
       "        55,  22,  82,  10, 132, 398,  38], dtype=int32)"
      ]
     },
     "execution_count": 171,
     "metadata": {},
     "output_type": "execute_result"
    }
   ],
   "source": [
    "X_train_sm_1[1]"
   ]
  },
  {
   "cell_type": "code",
   "execution_count": 186,
   "metadata": {},
   "outputs": [
    {
     "data": {
      "text/plain": [
       "array([968, 319, 264,  11,  23, 132,  56,   1,  48,   4, 148,  11, 424,\n",
       "         4, 330,  72, 162,   6, 118, 810,  24, 661, 266, 128,  93, 776,\n",
       "        77,  32,  22,  82,  10, 132, 432,  32,  22, 271,  32,  22,  82,\n",
       "        10, 132, 727,  77,  55,  22,  82,  10, 132, 398,  38], dtype=int32)"
      ]
     },
     "execution_count": 186,
     "metadata": {},
     "output_type": "execute_result"
    }
   ],
   "source": [
    "X_train_sm_2, y_train_sm_2 = smt.fit_sample(padded_docs_2, y_train)\n",
    "X_test_sm_2, y_test_sm_2 = smt.fit_sample(padded_docs_test_2, y_test)\n",
    "X_train_sm_2[1]"
   ]
  },
  {
   "cell_type": "code",
   "execution_count": 190,
   "metadata": {},
   "outputs": [
    {
     "data": {
      "text/plain": [
       "array([ 25,  76,  12,  19,  74,  27, 289,  80,   6, 107, 285, 513,  80,\n",
       "       101,  27, 196, 113,  71,  83,  19,  46, 530,  55, 530, 154, 914,\n",
       "       146, 374, 824, 409, 935,  27, 164, 296,  27, 128,  15, 240, 852,\n",
       "        13,  13,  24,   3, 590,  13,  11,  23,  26, 292,  13, 968, 319,\n",
       "       264,  11,  23, 132,  56,   1,  48,   4, 148,  11, 424,   4, 330,\n",
       "        72, 162,   6, 118, 810,  24, 661, 266, 128,  93, 776,  77,  32,\n",
       "        22,  82,  10, 132, 432,  32,  22, 271,  32,  22,  82,  10, 132,\n",
       "       727,  77,  55,  22,  82,  10, 132, 398,  38], dtype=int32)"
      ]
     },
     "execution_count": 190,
     "metadata": {},
     "output_type": "execute_result"
    }
   ],
   "source": [
    "X_train_sm_3, y_train_sm_3 = smt.fit_sample(padded_docs_3, y_train)\n",
    "X_test_sm_3, y_test_sm_3 = smt.fit_sample(padded_docs_test_3, y_test)\n",
    "X_train_sm_3[1]"
   ]
  },
  {
   "cell_type": "code",
   "execution_count": 50,
   "metadata": {},
   "outputs": [
    {
     "data": {
      "text/plain": [
       "array([ 46, 530,  55, 530, 154, 914, 146, 374, 824, 409, 935,  27, 164,\n",
       "       296,  27, 128,  15, 240, 852,  13,  13,  24,   3, 590,  13,  11,\n",
       "        23,  26, 292,  13, 968, 319, 264,  11,  23, 132,  56,   1,  48,\n",
       "         4, 148,  11, 424,   4, 330,  72, 162,   6, 118, 810,  24, 661,\n",
       "       266, 128,  93, 776,  77,  32,  22,  82,  10, 132, 432,  32,  22,\n",
       "       271,  32,  22,  82,  10, 132, 727,  77,  55,  22,  82,  10, 132,\n",
       "       398,  38], dtype=int32)"
      ]
     },
     "execution_count": 50,
     "metadata": {},
     "output_type": "execute_result"
    }
   ],
   "source": [
    "X_train_sm_4, y_train_sm_4 = smt.fit_sample(padded_docs_4, y_train)\n",
    "X_test_sm_4, y_test_sm_4 = smt.fit_sample(padded_docs_test_4, y_test)\n",
    "X_train_sm_4[1]"
   ]
  },
  {
   "cell_type": "markdown",
   "metadata": {},
   "source": [
    "### Two kinds of embedding matrix, 50 dimensions and 100 dimensions"
   ]
  },
  {
   "cell_type": "code",
   "execution_count": 26,
   "metadata": {},
   "outputs": [],
   "source": [
    "words = t.word_index\n",
    "#words.keys()"
   ]
  },
  {
   "cell_type": "code",
   "execution_count": 37,
   "metadata": {},
   "outputs": [],
   "source": [
    "embeddings_index1 = dict()\n",
    "f = open('../data/glove.6B.50d.txt')\n",
    "for line in f:\n",
    "    values = line.split()\n",
    "    word = values[0]\n",
    "    if word in words.keys():\n",
    "        coefs = np.asarray(values[1:], dtype='float32')\n",
    "        embeddings_index1[word] = coefs\n",
    "f.close()"
   ]
  },
  {
   "cell_type": "code",
   "execution_count": 38,
   "metadata": {},
   "outputs": [
    {
     "data": {
      "text/plain": [
       "array([ 0.62257 ,  0.071858,  0.024343, -0.12574 ,  0.31062 , -0.2258  ,\n",
       "       -0.34277 ,  0.50858 , -0.13264 , -0.068181, -0.21331 ,  0.27151 ,\n",
       "       -0.44914 ,  0.076563,  0.54888 ,  0.58235 ,  0.46806 , -0.3486  ,\n",
       "       -0.14855 , -0.81118 ,  0.26717 ,  0.24443 ,  0.016739,  0.04569 ,\n",
       "        0.23783 , -1.9723  , -0.067601, -0.50336 ,  0.21409 , -0.48434 ,\n",
       "        3.5853  ,  1.1371  , -1.1428  , -0.058785,  0.2457  , -0.16272 ,\n",
       "        0.17293 ,  0.18225 ,  0.0188  , -0.52325 , -0.34459 ,  0.035117,\n",
       "        0.27834 ,  0.18419 ,  0.23106 ,  0.13612 ,  0.021502,  0.18111 ,\n",
       "        0.038953,  0.23854 ], dtype=float32)"
      ]
     },
     "execution_count": 38,
     "metadata": {},
     "output_type": "execute_result"
    }
   ],
   "source": [
    "embeddings_index1['take']"
   ]
  },
  {
   "cell_type": "code",
   "execution_count": 29,
   "metadata": {},
   "outputs": [
    {
     "data": {
      "text/plain": [
       "21072"
      ]
     },
     "execution_count": 29,
     "metadata": {},
     "output_type": "execute_result"
    }
   ],
   "source": [
    "len(embeddings_index1)"
   ]
  },
  {
   "cell_type": "code",
   "execution_count": 51,
   "metadata": {},
   "outputs": [
    {
     "data": {
      "text/plain": [
       "array([-0.27819 ,  0.56678 ,  0.3884  ,  0.84791 , -0.53553 , -0.18567 ,\n",
       "       -0.60427 , -0.44929 ,  0.34041 ,  0.071683, -0.65044 , -0.088743,\n",
       "        0.48758 ,  0.76811 ,  0.94387 , -0.13674 , -0.72936 , -0.64575 ,\n",
       "        0.017628, -0.76741 ,  0.17246 , -0.16447 , -0.31963 , -0.21573 ,\n",
       "        0.15466 ,  0.67228 ,  1.2784  ,  0.32499 , -0.4789  ,  0.25096 ,\n",
       "        0.055028,  0.24313 ,  0.22682 ,  0.12384 , -0.48391 ,  0.17257 ,\n",
       "        0.13424 ,  0.6006  , -0.26424 ,  0.38991 , -0.099567,  0.80221 ,\n",
       "       -0.49071 , -0.88432 ,  1.1949  ,  0.40789 ,  0.66688 , -0.030903,\n",
       "       -0.15984 ,  0.097689,  0.20293 , -0.72925 , -0.012839,  0.27378 ,\n",
       "        0.22162 , -1.4481  ,  0.48884 , -0.70355 ,  0.18466 ,  0.14802 ,\n",
       "       -0.062758,  0.41424 , -0.1657  , -0.1627  ,  0.37181 ,  0.12785 ,\n",
       "        0.14275 , -1.4923  ,  0.31049 , -0.30264 , -0.84813 , -0.031897,\n",
       "       -0.48436 ,  0.87284 ,  0.96238 ,  0.19979 , -0.63098 ,  0.48002 ,\n",
       "       -0.6893  , -0.51801 ,  0.9677  ,  0.46549 , -0.68891 ,  0.31669 ,\n",
       "       -1.4688  , -0.089803,  0.35369 ,  0.65514 , -1.1702  , -0.1301  ,\n",
       "        0.30106 ,  0.56156 , -0.32926 ,  0.33185 ,  0.16727 ,  1.0709  ,\n",
       "        0.41778 , -0.58446 ,  0.62588 , -1.166   ], dtype=float32)"
      ]
     },
     "execution_count": 51,
     "metadata": {},
     "output_type": "execute_result"
    }
   ],
   "source": [
    "embeddings_index = dict()\n",
    "f = open('../data/glove.6B.100d.txt')\n",
    "for line in f:\n",
    "    values = line.split()\n",
    "    word = values[0]\n",
    "    if word in words.keys():\n",
    "        coefs = np.asarray(values[1:], dtype='float32')\n",
    "        embeddings_index[word] = coefs\n",
    "f.close()\n",
    "embeddings_index['acute']"
   ]
  },
  {
   "cell_type": "code",
   "execution_count": 39,
   "metadata": {},
   "outputs": [
    {
     "data": {
      "text/plain": [
       "21072"
      ]
     },
     "execution_count": 39,
     "metadata": {},
     "output_type": "execute_result"
    }
   ],
   "source": [
    "features = list(embeddings_index1.keys())\n",
    "len(features)"
   ]
  },
  {
   "cell_type": "code",
   "execution_count": 40,
   "metadata": {},
   "outputs": [],
   "source": [
    "# create a weight matrix for words in training docs\n",
    "embedding_matrix = np.zeros((vocab_size, 50))\n",
    "for word, i in t.word_index.items():\n",
    "    embedding_vector = embeddings_index1.get(word)\n",
    "    if embedding_vector is not None:\n",
    "        embedding_matrix[i] = embedding_vector"
   ]
  },
  {
   "cell_type": "code",
   "execution_count": 41,
   "metadata": {},
   "outputs": [
    {
     "data": {
      "text/plain": [
       "array([ 0.70853001,  0.57088   , -0.4716    ,  0.18048   ,  0.54448998,\n",
       "        0.72602999,  0.18156999, -0.52393001,  0.10381   , -0.17566   ,\n",
       "        0.078852  , -0.36216   , -0.11829   , -0.83336002,  0.11917   ,\n",
       "       -0.16605   ,  0.061555  , -0.012719  , -0.56623   ,  0.013616  ,\n",
       "        0.22851001, -0.14396   , -0.067549  , -0.38157001, -0.23698001,\n",
       "       -1.70369995, -0.86691999, -0.26704001, -0.25889999,  0.1767    ,\n",
       "        3.86759996, -0.1613    , -0.13273001, -0.68880999,  0.18444   ,\n",
       "        0.0052464 , -0.33873999, -0.078956  ,  0.24185   ,  0.36576   ,\n",
       "       -0.34727001,  0.28483   ,  0.075693  , -0.062178  , -0.38988   ,\n",
       "        0.22902   , -0.21617   , -0.22562   , -0.093918  , -0.80374998])"
      ]
     },
     "execution_count": 41,
     "metadata": {},
     "output_type": "execute_result"
    }
   ],
   "source": [
    "embedding_matrix[4]"
   ]
  },
  {
   "cell_type": "code",
   "execution_count": 52,
   "metadata": {},
   "outputs": [],
   "source": [
    "# create a weight matrix for words in training docs\n",
    "embedding_matrix_100 = np.zeros((vocab_size, 100))\n",
    "for word, i in t.word_index.items():\n",
    "    embedding_vector = embeddings_index.get(word)\n",
    "    if embedding_vector is not None:\n",
    "        embedding_matrix_100[i] = embedding_vector"
   ]
  },
  {
   "cell_type": "markdown",
   "metadata": {},
   "source": [
    "### Neural Network Model with Embedding Layer"
   ]
  },
  {
   "cell_type": "code",
   "execution_count": 110,
   "metadata": {},
   "outputs": [
    {
     "name": "stdout",
     "output_type": "stream",
     "text": [
      "Model: \"sequential_4\"\n",
      "_________________________________________________________________\n",
      "Layer (type)                 Output Shape              Param #   \n",
      "=================================================================\n",
      "embedding_4 (Embedding)      (None, 4, 50)             2141250   \n",
      "_________________________________________________________________\n",
      "flatten_4 (Flatten)          (None, 200)               0         \n",
      "_________________________________________________________________\n",
      "dense_3 (Dense)              (None, 1)                 201       \n",
      "=================================================================\n",
      "Total params: 2,141,451\n",
      "Trainable params: 201\n",
      "Non-trainable params: 2,141,250\n",
      "_________________________________________________________________\n",
      "None\n"
     ]
    }
   ],
   "source": [
    "# define model\n",
    "model = Sequential()\n",
    "e = Embedding(vocab_size, 50, weights=[embedding_matrix],input_length=4, trainable=False)\n",
    "model.add(e)\n",
    "model.add(Flatten())\n",
    "model.add()\n",
    "model.add(Dense(1, activation='sigmoid'))\n",
    "# compile the model\n",
    "model.compile(optimizer='adam', loss='binary_crossentropy', metrics=['accuracy'])\n",
    "# summarize the model\n",
    "print(model.summary())"
   ]
  },
  {
   "cell_type": "code",
   "execution_count": 116,
   "metadata": {},
   "outputs": [
    {
     "data": {
      "text/plain": [
       "<keras.callbacks.callbacks.History at 0x14c41fd10>"
      ]
     },
     "execution_count": 116,
     "metadata": {},
     "output_type": "execute_result"
    }
   ],
   "source": [
    "model.fit(padded_docs, y_train, epochs=50, verbose=0)"
   ]
  },
  {
   "cell_type": "code",
   "execution_count": 129,
   "metadata": {},
   "outputs": [
    {
     "name": "stdout",
     "output_type": "stream",
     "text": [
      "Train on 8996 samples, validate on 3020 samples\n",
      "Epoch 1/10\n",
      " - 0s - loss: 0.7198 - accuracy: 0.5460 - val_loss: 0.6876 - val_accuracy: 0.5967\n",
      "Epoch 2/10\n",
      " - 0s - loss: 0.6584 - accuracy: 0.5944 - val_loss: 0.6698 - val_accuracy: 0.6010\n",
      "Epoch 3/10\n",
      " - 0s - loss: 0.6466 - accuracy: 0.6040 - val_loss: 0.6635 - val_accuracy: 0.5974\n",
      "Epoch 4/10\n",
      " - 0s - loss: 0.6413 - accuracy: 0.6035 - val_loss: 0.6560 - val_accuracy: 0.6219\n",
      "Epoch 5/10\n",
      " - 0s - loss: 0.6366 - accuracy: 0.6092 - val_loss: 0.6583 - val_accuracy: 0.5838\n",
      "Epoch 6/10\n",
      " - 0s - loss: 0.6346 - accuracy: 0.6143 - val_loss: 0.6532 - val_accuracy: 0.6132\n",
      "Epoch 7/10\n",
      " - 0s - loss: 0.6317 - accuracy: 0.6195 - val_loss: 0.6533 - val_accuracy: 0.5861\n",
      "Epoch 8/10\n",
      " - 0s - loss: 0.6300 - accuracy: 0.6185 - val_loss: 0.6502 - val_accuracy: 0.6245\n",
      "Epoch 9/10\n",
      " - 0s - loss: 0.6286 - accuracy: 0.6142 - val_loss: 0.6492 - val_accuracy: 0.6189\n",
      "Epoch 10/10\n",
      " - 0s - loss: 0.6273 - accuracy: 0.6202 - val_loss: 0.6485 - val_accuracy: 0.5997\n"
     ]
    }
   ],
   "source": [
    "# fit the model\n",
    "history_all = model.fit(X_train_sm,\n",
    "                          y_train_sm,\n",
    "                          validation_data=(X_test_sm,y_test_sm),\n",
    "                          epochs=10,\n",
    "                          batch_size=None,\n",
    "                          verbose=2,\n",
    "#                          callbacks=[early_stop]\n",
    "                          )"
   ]
  },
  {
   "cell_type": "code",
   "execution_count": 43,
   "metadata": {},
   "outputs": [
    {
     "name": "stdout",
     "output_type": "stream",
     "text": [
      "Train on 8996 samples, validate on 3020 samples\n",
      "Epoch 1/10\n",
      " - 3s - loss: 1.4879 - acc: 0.8349 - val_loss: 0.5777 - val_acc: 0.8844\n",
      "Epoch 2/10\n",
      " - 2s - loss: 0.6243 - acc: 0.8524 - val_loss: 0.5979 - val_acc: 0.8666\n",
      "Epoch 3/10\n",
      " - 2s - loss: 0.6156 - acc: 0.8512 - val_loss: 0.5855 - val_acc: 0.8841\n",
      "Epoch 4/10\n",
      " - 2s - loss: 0.5964 - acc: 0.8466 - val_loss: 0.5334 - val_acc: 0.8785\n",
      "Epoch 5/10\n",
      " - 2s - loss: 0.5962 - acc: 0.8434 - val_loss: 0.5339 - val_acc: 0.8947\n",
      "Epoch 6/10\n",
      " - 2s - loss: 0.5878 - acc: 0.8319 - val_loss: 0.5457 - val_acc: 0.8725\n",
      "Epoch 7/10\n",
      " - 2s - loss: 0.5630 - acc: 0.8355 - val_loss: 0.5353 - val_acc: 0.8510\n",
      "Epoch 8/10\n",
      " - 2s - loss: 0.5815 - acc: 0.8046 - val_loss: 0.4643 - val_acc: 0.8970\n",
      "Epoch 9/10\n",
      " - 2s - loss: 0.5795 - acc: 0.8099 - val_loss: 0.5130 - val_acc: 0.8732\n",
      "Epoch 10/10\n",
      " - 2s - loss: 0.5715 - acc: 0.8124 - val_loss: 0.4834 - val_acc: 0.8970\n"
     ]
    }
   ],
   "source": [
    "# FFNN with embedding data\n",
    "# One Hidden Layer with 64 nodes\n",
    "# The embedding matrix has 50 dimensions\n",
    "model_1 = Sequential()\n",
    "e = Embedding(vocab_size, 50, weights=[embedding_matrix],input_length=80, trainable=False)\n",
    "model_1.add(e)\n",
    "model_1.add(Flatten())\n",
    "\n",
    "lam=0.1\n",
    "model_1.add(Dense(64, \n",
    "                  activation = 'relu',\n",
    "                  kernel_regularizer = regularizers.l2(lam)\n",
    "                       ))\n",
    "model_1.add(Dropout(0.5))\n",
    "            \n",
    "model_1.add(Dense(1,\n",
    "                   activation='sigmoid'))\n",
    "\n",
    "model_1.compile(loss='binary_crossentropy',\n",
    "                 optimizer='adam',\n",
    "                 metrics=['acc'])\n",
    "early_stop = EarlyStopping(monitor = 'val_loss', \n",
    "                           min_delta=0, \n",
    "                           patience=5,\n",
    "                           mode='auto')\n",
    "\n",
    "history_1 = model_1.fit(X_train_sm_4,\n",
    "                          y_train_sm_4,\n",
    "                          validation_data=(X_test_sm_4,y_test_sm_4),\n",
    "                          epochs=10,\n",
    "                          batch_size=None,\n",
    "                          verbose=2,\n",
    "                          callbacks=[early_stop]\n",
    "                          )"
   ]
  },
  {
   "cell_type": "code",
   "execution_count": 174,
   "metadata": {},
   "outputs": [
    {
     "data": {
      "image/png": "[encoded data removed]",
      "text/plain": [
       "<Figure size 864x576 with 1 Axes>"
      ]
     },
     "metadata": {
      "needs_background": "light"
     },
     "output_type": "display_data"
    }
   ],
   "source": [
    "# Check out our train loss and test loss over epochs.\n",
    "train_loss = history_1.history['loss']\n",
    "test_loss = history_1.history['val_loss']\n",
    "\n",
    "# Set figure size.\n",
    "plt.figure(figsize=(12, 8))\n",
    "\n",
    "# Generate line plot of training, testing loss over epochs.\n",
    "plt.plot(train_loss, label='Training Loss', color='#185fad')\n",
    "plt.plot(test_loss, label='Testing Loss', color='orange')\n",
    "\n",
    "# Set title\n",
    "plt.title('Training and Testing Loss by Epoch', fontsize = 25)\n",
    "plt.xlabel('Epoch', fontsize = 18)\n",
    "plt.ylabel('Categorical Crossentropy', fontsize = 18)\n",
    "plt.xticks([0, 1, 2, 3, 4, 5, 6, 7, 8, 9], [1, 2, 3, 4, 5, 6, 7, 8, 9, 10])\n",
    "\n",
    "plt.legend(fontsize = 18);"
   ]
  },
  {
   "cell_type": "markdown",
   "metadata": {},
   "source": [
    "### The weights embedding matrix have 50 dimensions"
   ]
  },
  {
   "cell_type": "code",
   "execution_count": 184,
   "metadata": {},
   "outputs": [
    {
     "name": "stdout",
     "output_type": "stream",
     "text": [
      "0.5752557 0.5973510146141052\n"
     ]
    }
   ],
   "source": [
    "max_length = 4\n",
    "print(history_1.history['acc'][-1],history_1.history['val_acc'][-1])"
   ]
  },
  {
   "cell_type": "code",
   "execution_count": 182,
   "metadata": {},
   "outputs": [
    {
     "name": "stdout",
     "output_type": "stream",
     "text": [
      "0.7756781 0.7718542814254761\n"
     ]
    }
   ],
   "source": [
    "max_length = 20\n",
    "print(history_1.history['acc'][-1],history_1.history['val_acc'][-1])"
   ]
  },
  {
   "cell_type": "code",
   "execution_count": 188,
   "metadata": {},
   "outputs": [
    {
     "name": "stdout",
     "output_type": "stream",
     "text": [
      "0.8361494 0.862582802772522\n"
     ]
    }
   ],
   "source": [
    "max_length = 50\n",
    "print(history_1.history['acc'][-1],history_1.history['val_acc'][-1])"
   ]
  },
  {
   "cell_type": "code",
   "execution_count": 44,
   "metadata": {},
   "outputs": [
    {
     "name": "stdout",
     "output_type": "stream",
     "text": [
      "0.81236106 0.8970198631286621\n"
     ]
    }
   ],
   "source": [
    "max_length = 80\n",
    "print(history_1.history['acc'][-1],history_1.history['val_acc'][-1])"
   ]
  },
  {
   "cell_type": "code",
   "execution_count": 192,
   "metadata": {},
   "outputs": [
    {
     "name": "stdout",
     "output_type": "stream",
     "text": [
      "0.7939084 0.889072835445404\n"
     ]
    }
   ],
   "source": [
    "max_length = 100\n",
    "print(history_1.history['acc'][-1],history_1.history['val_acc'][-1])"
   ]
  },
  {
   "cell_type": "code",
   "execution_count": 76,
   "metadata": {},
   "outputs": [],
   "source": [
    "df_acc = pd.DataFrame([[4,0.5753,0.5974],[20,0.7757,0.7719],[50,0.8361,0.8626],[80,0.8124,0.8970],[100,0.7939,0.8891]])\n",
    "df_acc.columns = [['max_length','accuracy_train','accuracy_test']]"
   ]
  },
  {
   "cell_type": "code",
   "execution_count": 78,
   "metadata": {},
   "outputs": [
    {
     "data": {
      "text/html": [
       "<div>\n",
       "<style scoped>\n",
       "    .dataframe tbody tr th:only-of-type {\n",
       "        vertical-align: middle;\n",
       "    }\n",
       "\n",
       "    .dataframe tbody tr th {\n",
       "        vertical-align: top;\n",
       "    }\n",
       "\n",
       "    .dataframe thead tr th {\n",
       "        text-align: left;\n",
       "    }\n",
       "</style>\n",
       "<table border=\"1\" class=\"dataframe\">\n",
       "  <thead>\n",
       "    <tr>\n",
       "      <th></th>\n",
       "      <th>max_length</th>\n",
       "      <th>accuracy_train</th>\n",
       "      <th>accuracy_test</th>\n",
       "    </tr>\n",
       "  </thead>\n",
       "  <tbody>\n",
       "    <tr>\n",
       "      <td>0</td>\n",
       "      <td>4</td>\n",
       "      <td>0.5753</td>\n",
       "      <td>0.5974</td>\n",
       "    </tr>\n",
       "    <tr>\n",
       "      <td>1</td>\n",
       "      <td>20</td>\n",
       "      <td>0.7757</td>\n",
       "      <td>0.7719</td>\n",
       "    </tr>\n",
       "    <tr>\n",
       "      <td>2</td>\n",
       "      <td>50</td>\n",
       "      <td>0.8361</td>\n",
       "      <td>0.8626</td>\n",
       "    </tr>\n",
       "    <tr>\n",
       "      <td>3</td>\n",
       "      <td>80</td>\n",
       "      <td>0.8124</td>\n",
       "      <td>0.8970</td>\n",
       "    </tr>\n",
       "    <tr>\n",
       "      <td>4</td>\n",
       "      <td>100</td>\n",
       "      <td>0.7939</td>\n",
       "      <td>0.8891</td>\n",
       "    </tr>\n",
       "  </tbody>\n",
       "</table>\n",
       "</div>"
      ],
      "text/plain": [
       "  max_length accuracy_train accuracy_test\n",
       "0          4         0.5753        0.5974\n",
       "1         20         0.7757        0.7719\n",
       "2         50         0.8361        0.8626\n",
       "3         80         0.8124        0.8970\n",
       "4        100         0.7939        0.8891"
      ]
     },
     "execution_count": 78,
     "metadata": {},
     "output_type": "execute_result"
    }
   ],
   "source": [
    "df_acc"
   ]
  },
  {
   "cell_type": "code",
   "execution_count": 90,
   "metadata": {},
   "outputs": [
    {
     "data": {
      "image/png": "[encoded data removed]",
      "text/plain": [
       "<Figure size 864x720 with 1 Axes>"
      ]
     },
     "metadata": {
      "needs_background": "light"
     },
     "output_type": "display_data"
    }
   ],
   "source": [
    "plt.figure(figsize=(12,10))\n",
    "plt.plot([4,20,50,80,100],[0.5753,0.7757,0.8361,0.8124,0.7939],label = \"Training Accuracy\")\n",
    "plt.plot([4,20,50,80,100],[0.5974,0.7719,0.8626,0.8970,0.8891], label=\"Testing Accuracy\");\n",
    "# Set title\n",
    "plt.title('Training and Testing Accuracy by max_length', fontsize = 25)\n",
    "plt.xlabel('max_length', fontsize = 18)\n",
    "plt.ylabel('Accuracy', fontsize = 18)\n",
    "\n",
    "plt.legend(fontsize = 18);"
   ]
  },
  {
   "cell_type": "code",
   "execution_count": 53,
   "metadata": {},
   "outputs": [
    {
     "name": "stdout",
     "output_type": "stream",
     "text": [
      "Train on 8996 samples, validate on 3020 samples\n",
      "Epoch 1/10\n",
      " - 4s - loss: 1.3810 - acc: 0.8186 - val_loss: 0.5842 - val_acc: 0.8854\n",
      "Epoch 2/10\n",
      " - 3s - loss: 0.6523 - acc: 0.8155 - val_loss: 0.5597 - val_acc: 0.8815\n",
      "Epoch 3/10\n",
      " - 3s - loss: 0.6454 - acc: 0.8179 - val_loss: 0.5466 - val_acc: 0.8940\n",
      "Epoch 4/10\n",
      " - 3s - loss: 0.6157 - acc: 0.8267 - val_loss: 0.5336 - val_acc: 0.9086\n",
      "Epoch 5/10\n",
      " - 3s - loss: 0.6394 - acc: 0.7204 - val_loss: 0.5609 - val_acc: 0.9020\n",
      "Epoch 6/10\n",
      " - 3s - loss: 0.6348 - acc: 0.7025 - val_loss: 0.6711 - val_acc: 0.8166\n",
      "Epoch 7/10\n",
      " - 3s - loss: 0.6284 - acc: 0.7040 - val_loss: 0.5960 - val_acc: 0.8272\n",
      "Epoch 8/10\n",
      " - 3s - loss: 0.6297 - acc: 0.7144 - val_loss: 0.4751 - val_acc: 0.8917\n",
      "Epoch 9/10\n",
      " - 3s - loss: 0.6064 - acc: 0.6939 - val_loss: 0.5192 - val_acc: 0.8709\n",
      "Epoch 10/10\n",
      " - 3s - loss: 0.6263 - acc: 0.7531 - val_loss: 0.4812 - val_acc: 0.8897\n"
     ]
    }
   ],
   "source": [
    "# FFNN with embedding data\n",
    "# One Hidden Layer with 64 nodes\n",
    "# The embedding matrix has 100 dimensions\n",
    "model_1 = Sequential()\n",
    "e = Embedding(vocab_size, 100, weights=[embedding_matrix_100],input_length=80, trainable=False)\n",
    "model_1.add(e)\n",
    "model_1.add(Flatten())\n",
    "\n",
    "lam=0.1\n",
    "model_1.add(Dense(64, \n",
    "                  activation = 'relu',\n",
    "                  kernel_regularizer = regularizers.l2(lam)\n",
    "                       ))\n",
    "model_1.add(Dropout(0.5))\n",
    "            \n",
    "model_1.add(Dense(1,\n",
    "                   activation='sigmoid'))\n",
    "\n",
    "model_1.compile(loss='binary_crossentropy',\n",
    "                 optimizer='adam',\n",
    "                 metrics=['acc'])\n",
    "early_stop = EarlyStopping(monitor = 'val_loss', \n",
    "                           min_delta=0, \n",
    "                           patience=5,\n",
    "                           mode='auto')\n",
    "\n",
    "history_1 = model_1.fit(X_train_sm_4,\n",
    "                          y_train_sm_4,\n",
    "                          validation_data=(X_test_sm_4,y_test_sm_4),\n",
    "                          epochs=10,\n",
    "                          batch_size=None,\n",
    "                          verbose=2,\n",
    "                          callbacks=[early_stop]\n",
    "                          )"
   ]
  },
  {
   "cell_type": "markdown",
   "metadata": {},
   "source": [
    "### The weights embedding matrix have 100 dimensions"
   ]
  },
  {
   "cell_type": "code",
   "execution_count": 54,
   "metadata": {},
   "outputs": [
    {
     "name": "stdout",
     "output_type": "stream",
     "text": [
      "0.7531125 0.8897351026535034\n"
     ]
    }
   ],
   "source": [
    "max_length = 80\n",
    "print(history_1.history['acc'][-1],history_1.history['val_acc'][-1])"
   ]
  },
  {
   "cell_type": "code",
   "execution_count": null,
   "metadata": {},
   "outputs": [],
   "source": []
  }
 ],
 "metadata": {
  "kernelspec": {
   "display_name": "Python 3",
   "language": "python",
   "name": "python3"
  },
  "language_info": {
   "codemirror_mode": {
    "name": "ipython",
    "version": 3
   },
   "file_extension": ".py",
   "mimetype": "text/x-python",
   "name": "python",
   "nbconvert_exporter": "python",
   "pygments_lexer": "ipython3",
   "version": "3.7.4"
  }
 },
 "nbformat": 4,
 "nbformat_minor": 2
}
