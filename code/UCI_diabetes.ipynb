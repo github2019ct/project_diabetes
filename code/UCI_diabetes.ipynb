{
 "cells": [
  {
   "cell_type": "code",
   "execution_count": 1,
   "metadata": {},
   "outputs": [],
   "source": [
    "import pandas as pd\n",
    "import numpy as np\n",
    "import matplotlib.pyplot as plt"
   ]
  },
  {
   "cell_type": "code",
   "execution_count": 2,
   "metadata": {},
   "outputs": [
    {
     "data": {
      "text/html": [
       "<div>\n",
       "<style scoped>\n",
       "    .dataframe tbody tr th:only-of-type {\n",
       "        vertical-align: middle;\n",
       "    }\n",
       "\n",
       "    .dataframe tbody tr th {\n",
       "        vertical-align: top;\n",
       "    }\n",
       "\n",
       "    .dataframe thead th {\n",
       "        text-align: right;\n",
       "    }\n",
       "</style>\n",
       "<table border=\"1\" class=\"dataframe\">\n",
       "  <thead>\n",
       "    <tr style=\"text-align: right;\">\n",
       "      <th></th>\n",
       "      <th>encounter_id</th>\n",
       "      <th>patient_nbr</th>\n",
       "      <th>race</th>\n",
       "      <th>gender</th>\n",
       "      <th>age</th>\n",
       "      <th>weight</th>\n",
       "      <th>admission_type_id</th>\n",
       "      <th>discharge_disposition_id</th>\n",
       "      <th>admission_source_id</th>\n",
       "      <th>time_in_hospital</th>\n",
       "      <th>...</th>\n",
       "      <th>citoglipton</th>\n",
       "      <th>insulin</th>\n",
       "      <th>glyburide-metformin</th>\n",
       "      <th>glipizide-metformin</th>\n",
       "      <th>glimepiride-pioglitazone</th>\n",
       "      <th>metformin-rosiglitazone</th>\n",
       "      <th>metformin-pioglitazone</th>\n",
       "      <th>change</th>\n",
       "      <th>diabetesMed</th>\n",
       "      <th>readmitted</th>\n",
       "    </tr>\n",
       "  </thead>\n",
       "  <tbody>\n",
       "    <tr>\n",
       "      <td>0</td>\n",
       "      <td>2278392</td>\n",
       "      <td>8222157</td>\n",
       "      <td>Caucasian</td>\n",
       "      <td>Female</td>\n",
       "      <td>[0-10)</td>\n",
       "      <td>?</td>\n",
       "      <td>6</td>\n",
       "      <td>25</td>\n",
       "      <td>1</td>\n",
       "      <td>1</td>\n",
       "      <td>...</td>\n",
       "      <td>No</td>\n",
       "      <td>No</td>\n",
       "      <td>No</td>\n",
       "      <td>No</td>\n",
       "      <td>No</td>\n",
       "      <td>No</td>\n",
       "      <td>No</td>\n",
       "      <td>No</td>\n",
       "      <td>No</td>\n",
       "      <td>NO</td>\n",
       "    </tr>\n",
       "    <tr>\n",
       "      <td>1</td>\n",
       "      <td>149190</td>\n",
       "      <td>55629189</td>\n",
       "      <td>Caucasian</td>\n",
       "      <td>Female</td>\n",
       "      <td>[10-20)</td>\n",
       "      <td>?</td>\n",
       "      <td>1</td>\n",
       "      <td>1</td>\n",
       "      <td>7</td>\n",
       "      <td>3</td>\n",
       "      <td>...</td>\n",
       "      <td>No</td>\n",
       "      <td>Up</td>\n",
       "      <td>No</td>\n",
       "      <td>No</td>\n",
       "      <td>No</td>\n",
       "      <td>No</td>\n",
       "      <td>No</td>\n",
       "      <td>Ch</td>\n",
       "      <td>Yes</td>\n",
       "      <td>&gt;30</td>\n",
       "    </tr>\n",
       "    <tr>\n",
       "      <td>2</td>\n",
       "      <td>64410</td>\n",
       "      <td>86047875</td>\n",
       "      <td>AfricanAmerican</td>\n",
       "      <td>Female</td>\n",
       "      <td>[20-30)</td>\n",
       "      <td>?</td>\n",
       "      <td>1</td>\n",
       "      <td>1</td>\n",
       "      <td>7</td>\n",
       "      <td>2</td>\n",
       "      <td>...</td>\n",
       "      <td>No</td>\n",
       "      <td>No</td>\n",
       "      <td>No</td>\n",
       "      <td>No</td>\n",
       "      <td>No</td>\n",
       "      <td>No</td>\n",
       "      <td>No</td>\n",
       "      <td>No</td>\n",
       "      <td>Yes</td>\n",
       "      <td>NO</td>\n",
       "    </tr>\n",
       "    <tr>\n",
       "      <td>3</td>\n",
       "      <td>500364</td>\n",
       "      <td>82442376</td>\n",
       "      <td>Caucasian</td>\n",
       "      <td>Male</td>\n",
       "      <td>[30-40)</td>\n",
       "      <td>?</td>\n",
       "      <td>1</td>\n",
       "      <td>1</td>\n",
       "      <td>7</td>\n",
       "      <td>2</td>\n",
       "      <td>...</td>\n",
       "      <td>No</td>\n",
       "      <td>Up</td>\n",
       "      <td>No</td>\n",
       "      <td>No</td>\n",
       "      <td>No</td>\n",
       "      <td>No</td>\n",
       "      <td>No</td>\n",
       "      <td>Ch</td>\n",
       "      <td>Yes</td>\n",
       "      <td>NO</td>\n",
       "    </tr>\n",
       "    <tr>\n",
       "      <td>4</td>\n",
       "      <td>16680</td>\n",
       "      <td>42519267</td>\n",
       "      <td>Caucasian</td>\n",
       "      <td>Male</td>\n",
       "      <td>[40-50)</td>\n",
       "      <td>?</td>\n",
       "      <td>1</td>\n",
       "      <td>1</td>\n",
       "      <td>7</td>\n",
       "      <td>1</td>\n",
       "      <td>...</td>\n",
       "      <td>No</td>\n",
       "      <td>Steady</td>\n",
       "      <td>No</td>\n",
       "      <td>No</td>\n",
       "      <td>No</td>\n",
       "      <td>No</td>\n",
       "      <td>No</td>\n",
       "      <td>Ch</td>\n",
       "      <td>Yes</td>\n",
       "      <td>NO</td>\n",
       "    </tr>\n",
       "  </tbody>\n",
       "</table>\n",
       "<p>5 rows × 50 columns</p>\n",
       "</div>"
      ],
      "text/plain": [
       "   encounter_id  patient_nbr             race  gender      age weight  \\\n",
       "0       2278392      8222157        Caucasian  Female   [0-10)      ?   \n",
       "1        149190     55629189        Caucasian  Female  [10-20)      ?   \n",
       "2         64410     86047875  AfricanAmerican  Female  [20-30)      ?   \n",
       "3        500364     82442376        Caucasian    Male  [30-40)      ?   \n",
       "4         16680     42519267        Caucasian    Male  [40-50)      ?   \n",
       "\n",
       "   admission_type_id  discharge_disposition_id  admission_source_id  \\\n",
       "0                  6                        25                    1   \n",
       "1                  1                         1                    7   \n",
       "2                  1                         1                    7   \n",
       "3                  1                         1                    7   \n",
       "4                  1                         1                    7   \n",
       "\n",
       "   time_in_hospital  ... citoglipton insulin  glyburide-metformin  \\\n",
       "0                 1  ...          No      No                   No   \n",
       "1                 3  ...          No      Up                   No   \n",
       "2                 2  ...          No      No                   No   \n",
       "3                 2  ...          No      Up                   No   \n",
       "4                 1  ...          No  Steady                   No   \n",
       "\n",
       "   glipizide-metformin  glimepiride-pioglitazone  metformin-rosiglitazone  \\\n",
       "0                   No                        No                       No   \n",
       "1                   No                        No                       No   \n",
       "2                   No                        No                       No   \n",
       "3                   No                        No                       No   \n",
       "4                   No                        No                       No   \n",
       "\n",
       "   metformin-pioglitazone  change diabetesMed readmitted  \n",
       "0                      No      No          No         NO  \n",
       "1                      No      Ch         Yes        >30  \n",
       "2                      No      No         Yes         NO  \n",
       "3                      No      Ch         Yes         NO  \n",
       "4                      No      Ch         Yes         NO  \n",
       "\n",
       "[5 rows x 50 columns]"
      ]
     },
     "execution_count": 2,
     "metadata": {},
     "output_type": "execute_result"
    }
   ],
   "source": [
    "df = pd.read_csv('../data/diabetic_data.csv')\n"
   ]
  },
  {
   "cell_type": "code",
   "execution_count": 3,
   "metadata": {},
   "outputs": [],
   "source": [
    "# Drop the columns that have more than 40% null values\n",
    "df.drop(columns=['weight','payer_code','medical_specialty'],inplace=True)"
   ]
  },
  {
   "cell_type": "code",
   "execution_count": 4,
   "metadata": {},
   "outputs": [
    {
     "data": {
      "text/plain": [
       "(101766, 47)"
      ]
     },
     "execution_count": 4,
     "metadata": {},
     "output_type": "execute_result"
    }
   ],
   "source": [
    "df.shape"
   ]
  },
  {
   "cell_type": "code",
   "execution_count": 5,
   "metadata": {},
   "outputs": [],
   "source": [
    "# Drop duplicated row of each patient(according to 'patient_nbr')\n",
    "df.drop_duplicates('patient_nbr',keep='first',inplace=True)"
   ]
  },
  {
   "cell_type": "code",
   "execution_count": 6,
   "metadata": {},
   "outputs": [
    {
     "data": {
      "text/plain": [
       "(71518, 47)"
      ]
     },
     "execution_count": 6,
     "metadata": {},
     "output_type": "execute_result"
    }
   ],
   "source": [
    "df.shape"
   ]
  },
  {
   "cell_type": "code",
   "execution_count": 7,
   "metadata": {},
   "outputs": [],
   "source": [
    "# Drop rows of patient related to dead \n",
    "df_1=df[(df['discharge_disposition_id']!=11)&(df['discharge_disposition_id']!=13)&\n",
    "     (df['discharge_disposition_id']!=14)&(df['discharge_disposition_id']!=19)&\n",
    "     (df['discharge_disposition_id']!=20)]"
   ]
  },
  {
   "cell_type": "code",
   "execution_count": 8,
   "metadata": {},
   "outputs": [
    {
     "data": {
      "text/plain": [
       "(69973, 47)"
      ]
     },
     "execution_count": 8,
     "metadata": {},
     "output_type": "execute_result"
    }
   ],
   "source": [
    "df_1.shape"
   ]
  },
  {
   "cell_type": "code",
   "execution_count": 9,
   "metadata": {},
   "outputs": [],
   "source": [
    "diabete_diag_id=['250.83','250.7','250.6','250.4','250.11','250.32','250.13','250.03','250.8','250.02','250.42','250.41','250.22',\n",
    " '250.82','250.33','250.12','250.81','250.93','250.01','250.31','250.43','250.1','250.2','250.3','250.23','250.5',\n",
    " '250.92','250.21','250.9','250.52','250.51','250.91','250.53',]"
   ]
  },
  {
   "cell_type": "code",
   "execution_count": 10,
   "metadata": {},
   "outputs": [],
   "source": [
    "df_diabetes = df_1[df_1['diag_1'].map(lambda x: x in diabete_diag_id)]"
   ]
  },
  {
   "cell_type": "code",
   "execution_count": 11,
   "metadata": {},
   "outputs": [
    {
     "data": {
      "text/plain": [
       "(5548, 47)"
      ]
     },
     "execution_count": 11,
     "metadata": {},
     "output_type": "execute_result"
    }
   ],
   "source": [
    "df_diabetes.shape"
   ]
  },
  {
   "cell_type": "code",
   "execution_count": 12,
   "metadata": {},
   "outputs": [],
   "source": [
    "df_cleaning = df_diabetes.copy()\n",
    "# race == ?, convert to race == 'unknown'\n",
    "df_cleaning['race'] = df_cleaning['race'].map(lambda x:'unknown' if x=='?' else x)\n",
    "# 'gender' column, Male=1, Femail=0\n",
    "df_cleaning['gender'] = df_cleaning['gender'].map({'Male':1, 'Female':0})\n",
    "# convert 'age' from a range, like [50-60) to a number 55\n",
    "df_cleaning['age'] = df_cleaning['age'].map({'[50-60)':55, '[60-70)':65, '[40-50)':45, '[70-80)':75, '[30-40)':35, \n",
    "                                             '[80-90)':85, '[20-30)':25, '[10-20)':15,'[0-10)':5, '[90-100)':95})\n",
    "# drop one row of 'admission_type_id==4 (NewBorn)\n",
    "# combine id==1,2,7 to 'Emergency', id==5,6,8 to 'Unknown', id==3 to 'Elective'\n",
    "df_cleaning=df_cleaning[df_cleaning['admission_type_id']!=4]\n",
    "df_cleaning['admission_type_id']=df_cleaning['admission_type_id'].map({1:'Emergency', 2:'Emergency', 3:'Elective', \n",
    "                                                                       5:'Unknown', 6:'Unknown', 8:'Unknown'})\n",
    "# combine id==1 to 'dicharged home', id==2,3,4,5,15,22,23,27,28 to 'transferred to other place', \n",
    "# id==6,8,17 to 'discharged home with healthe service', id==7 to 'dama means leave hospital against advise of doctor', \n",
    "# id==18,25 to 'unknown'\n",
    "df_cleaning['discharge_disposition_id'] = df_cleaning['discharge_disposition_id'].map({1:'home',2:'transferred',\n",
    "3:'transferred',4:'transferred',5:'transferred',6:'home_care',7:'dama',8:'home_care',15:'transferred', 17:'home_care',\n",
    "18:'unknown', 22:'transferred',23:'transferred', 25:'unknown',27:'transferred',28:'transferred'})\n",
    "# column 'admission_type_id' id==7 'emergency_room', id==9,17,20 'unknown', id==1,2,3,8 'referral', id==4,5,6 'transfered'\n",
    "df_cleaning['admission_source_id'] = df_cleaning['admission_source_id'].map(\n",
    "{7:'emergency_room', 1:'referral', 17:'unknown', 6:'transfered', 4:'transfered', 2:'referral', 5:'transfered', \n",
    " 20:'unknown', 9:'unknown', 3:'referral', 8:'referral'})\n",
    "# transform time_in_hospital to log(time_in_hospital)\n",
    "df_cleaning['time_in_hospital']=df_cleaning['time_in_hospital'].map(lambda x: np.log(1+x))\n",
    "# no change for column 'num_lab_procedures'\n",
    "# no change for column 'num_precedures'\n",
    "# transform column 'num_medications' with np.log()\n",
    "df_cleaning['num_medications']=df_cleaning['num_medications'].map(lambda x: np.log(1+x))\n",
    "# 'number_outpatient', 'number_emergency' and 'number_inpatient' are all dominated by one value==0\n",
    "# drop off column 'diag_1' 'diag_2' and diag_3\n",
    "df_cleaning.drop(columns=['diag_1','diag_2','diag_3'],inplace=True)\n",
    "# 'number_diagnoses' not normally distributed, but log won't work, so didn't make any changes\n",
    "# column 'chlorpropamide', 'acetohexamide', 'miglitol', 'troglitazone','examide','citoglipton','glipizide-metformin',\n",
    "# column 'glimepiride-pioglitazone','metformin-rosiglitazone','metformin-pioglitazone', all data give one value\n",
    "df_cleaning.drop(columns=['chlorpropamide', 'acetohexamide', 'miglitol', 'troglitazone','examide','citoglipton',\n",
    "                          'glipizide-metformin','glimepiride-pioglitazone','metformin-rosiglitazone',\n",
    "                          'metformin-pioglitazone'], inplace=True)\n",
    "# column 'max_glu_serum' glucose serum test result, None==no measure==0, Norm==<100==1, >200==2, >300==3\n",
    "df_cleaning['max_glu_serum']=df_cleaning['max_glu_serum'].map({'None':0, '>300':3,'Norm':1,'>200':2})\n",
    "# column 'ALCresult' related to diabetes, None==0, Norm==<5.7==1, >7==2, >8==3\n",
    "df_cleaning['A1Cresult']=df_cleaning['A1Cresult'].map({'None':0, 'Norm':1, '>7':2, '>8':3})"
   ]
  },
  {
   "cell_type": "code",
   "execution_count": null,
   "metadata": {},
   "outputs": [],
   "source": [
    "categorical_columns=['race','gender','admission_type_id','discharge_disposition_id','admission_source_id','change',\n",
    "                     'diabetesMed','diabetesMed_change']\n",
    "numerical_columns=['age','time_in_hospital','num_lab_procedures','num_procedures','num_medications','number_outpatient', \n",
    "                   'number_emergency','number_inpatient','number_diagnoses','max_glu_serum','A1Cresult',\n",
    "                   'number_features_medications']"
   ]
  },
  {
   "cell_type": "code",
   "execution_count": 60,
   "metadata": {},
   "outputs": [],
   "source": [
    "features=['metformin', 'repaglinide', 'nateglinide','glimepiride','glipizide','glyburide',\n",
    "'pioglitazone','rosiglitazone','acarbose','insulin', 'glyburide-metformin','tolbutamide','tolazamide']\n"
   ]
  },
  {
   "cell_type": "code",
   "execution_count": 69,
   "metadata": {},
   "outputs": [],
   "source": [
    "df_cleaning['number_features_medications']=0"
   ]
  },
  {
   "cell_type": "code",
   "execution_count": 71,
   "metadata": {},
   "outputs": [
    {
     "name": "stderr",
     "output_type": "stream",
     "text": [
      "/Users/susanchen/opt/anaconda3/lib/python3.7/site-packages/ipykernel_launcher.py:6: SettingWithCopyWarning: \n",
      "A value is trying to be set on a copy of a slice from a DataFrame\n",
      "\n",
      "See the caveats in the documentation: http://pandas.pydata.org/pandas-docs/stable/user_guide/indexing.html#returning-a-view-versus-a-copy\n",
      "  \n"
     ]
    }
   ],
   "source": [
    "for i in range(len(df_cleaning)):\n",
    "    count = 0\n",
    "    for column_name in features:\n",
    "        if df_cleaning[column_name][i] != 'No':\n",
    "            count+=1\n",
    "    df_cleaning['number_features_medications'][i] = count"
   ]
  },
  {
   "cell_type": "code",
   "execution_count": 80,
   "metadata": {},
   "outputs": [],
   "source": [
    "df_cleaning['diabetesMed_change']=df_cleaning['diabetesMed']+df_cleaning['change']"
   ]
  },
  {
   "cell_type": "code",
   "execution_count": 88,
   "metadata": {},
   "outputs": [],
   "source": [
    "df_cleaning['label'] = df_cleaning['readmitted'].map({'<30':1, '>30':0, 'NO':0})"
   ]
  },
  {
   "cell_type": "code",
   "execution_count": 91,
   "metadata": {},
   "outputs": [
    {
     "data": {
      "text/plain": [
       "(5547, 37)"
      ]
     },
     "execution_count": 91,
     "metadata": {},
     "output_type": "execute_result"
    }
   ],
   "source": [
    "df_cleaning.shape"
   ]
  },
  {
   "cell_type": "code",
   "execution_count": 92,
   "metadata": {},
   "outputs": [],
   "source": [
    "df_cleaning.to_csv('../data/UCI_train_test.csv')"
   ]
  },
  {
   "cell_type": "code",
   "execution_count": null,
   "metadata": {},
   "outputs": [],
   "source": []
  }
 ],
 "metadata": {
  "kernelspec": {
   "display_name": "Python 3",
   "language": "python",
   "name": "python3"
  },
  "language_info": {
   "codemirror_mode": {
    "name": "ipython",
    "version": 3
   },
   "file_extension": ".py",
   "mimetype": "text/x-python",
   "name": "python",
   "nbconvert_exporter": "python",
   "pygments_lexer": "ipython3",
   "version": "3.7.4"
  }
 },
 "nbformat": 4,
 "nbformat_minor": 2
}
