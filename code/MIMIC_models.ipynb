{
 "cells": [
  {
   "cell_type": "code",
   "execution_count": 88,
   "metadata": {},
   "outputs": [],
   "source": [
    "import matplotlib.pyplot as plt\n",
    "import pandas as pd\n",
    "\n",
    "from sklearn.model_selection import train_test_split, cross_val_score, GridSearchCV\n",
    "from sklearn.feature_extraction.text import CountVectorizer, TfidfVectorizer\n",
    "from sklearn.preprocessing import StandardScaler\n",
    "from sklearn.metrics import confusion_matrix, accuracy_score\n",
    "\n",
    "from sklearn.linear_model import LogisticRegression\n",
    "from sklearn.ensemble import RandomForestClassifier\n",
    "from xgboost import XGBClassifier\n",
    "from sklearn.svm import SVC\n",
    "from keras.models import Sequential\n",
    "from keras.layers import Dense\n",
    "from keras import regularizers\n",
    "from keras.layers import Dropout\n",
    "from keras.callbacks import EarlyStopping\n",
    "\n",
    "from imblearn.over_sampling import SMOTE\n",
    "\n",
    "%matplotlib inline"
   ]
  },
  {
   "cell_type": "markdown",
   "metadata": {},
   "source": [
    "## Load the MIMIC data"
   ]
  },
  {
   "cell_type": "code",
   "execution_count": 3,
   "metadata": {},
   "outputs": [
    {
     "data": {
      "text/html": [
       "<div>\n",
       "<style scoped>\n",
       "    .dataframe tbody tr th:only-of-type {\n",
       "        vertical-align: middle;\n",
       "    }\n",
       "\n",
       "    .dataframe tbody tr th {\n",
       "        vertical-align: top;\n",
       "    }\n",
       "\n",
       "    .dataframe thead th {\n",
       "        text-align: right;\n",
       "    }\n",
       "</style>\n",
       "<table border=\"1\" class=\"dataframe\">\n",
       "  <thead>\n",
       "    <tr style=\"text-align: right;\">\n",
       "      <th></th>\n",
       "      <th>HADM_ID</th>\n",
       "      <th>text_list</th>\n",
       "      <th>label</th>\n",
       "    </tr>\n",
       "  </thead>\n",
       "  <tbody>\n",
       "    <tr>\n",
       "      <td>0</td>\n",
       "      <td>100009</td>\n",
       "      <td>Admission Date                         Dischar...</td>\n",
       "      <td>0</td>\n",
       "    </tr>\n",
       "    <tr>\n",
       "      <td>1</td>\n",
       "      <td>100034</td>\n",
       "      <td>Admission Date                         Dischar...</td>\n",
       "      <td>0</td>\n",
       "    </tr>\n",
       "    <tr>\n",
       "      <td>2</td>\n",
       "      <td>100045</td>\n",
       "      <td>Admission Date                         Dischar...</td>\n",
       "      <td>0</td>\n",
       "    </tr>\n",
       "    <tr>\n",
       "      <td>3</td>\n",
       "      <td>100059</td>\n",
       "      <td>Admission Date                  Discharge Date...</td>\n",
       "      <td>0</td>\n",
       "    </tr>\n",
       "    <tr>\n",
       "      <td>4</td>\n",
       "      <td>100099</td>\n",
       "      <td>Admission Date                         Dischar...</td>\n",
       "      <td>0</td>\n",
       "    </tr>\n",
       "  </tbody>\n",
       "</table>\n",
       "</div>"
      ],
      "text/plain": [
       "   HADM_ID                                          text_list  label\n",
       "0   100009  Admission Date                         Dischar...      0\n",
       "1   100034  Admission Date                         Dischar...      0\n",
       "2   100045  Admission Date                         Dischar...      0\n",
       "3   100059  Admission Date                  Discharge Date...      0\n",
       "4   100099  Admission Date                         Dischar...      0"
      ]
     },
     "execution_count": 3,
     "metadata": {},
     "output_type": "execute_result"
    }
   ],
   "source": [
    "df = pd.read_csv('../data/MIMIC_train_test.csv')\n",
    "df.drop(columns='Unnamed: 0',inplace=True)\n",
    "df.head()"
   ]
  },
  {
   "cell_type": "code",
   "execution_count": 4,
   "metadata": {},
   "outputs": [
    {
     "data": {
      "text/plain": [
       "(6483, 3)"
      ]
     },
     "execution_count": 4,
     "metadata": {},
     "output_type": "execute_result"
    }
   ],
   "source": [
    "df.shape"
   ]
  },
  {
   "cell_type": "markdown",
   "metadata": {},
   "source": [
    "## Prepare Text Data for Machine Learning"
   ]
  },
  {
   "cell_type": "code",
   "execution_count": 5,
   "metadata": {},
   "outputs": [
    {
     "name": "stdout",
     "output_type": "stream",
     "text": [
      "The base line is 0.9267\n"
     ]
    }
   ],
   "source": [
    "# The base line for this dataset\n",
    "base = round(len(df[df['label']==0])/(len(df)),4)\n",
    "print(f'The base line is {base}')"
   ]
  },
  {
   "cell_type": "code",
   "execution_count": 14,
   "metadata": {},
   "outputs": [],
   "source": [
    "# Split the train and test data\n",
    "X = df['text_list']\n",
    "y = df['label']\n",
    "\n",
    "X_train, X_test, y_train, y_test = train_test_split(X,\n",
    "                                                    y,\n",
    "                                                    random_state = 42)"
   ]
  },
  {
   "cell_type": "code",
   "execution_count": 15,
   "metadata": {},
   "outputs": [
    {
     "data": {
      "text/plain": [
       "0    6008\n",
       "1     475\n",
       "Name: label, dtype: int64"
      ]
     },
     "execution_count": 15,
     "metadata": {},
     "output_type": "execute_result"
    }
   ],
   "source": [
    "y.value_counts()"
   ]
  },
  {
   "cell_type": "code",
   "execution_count": 16,
   "metadata": {},
   "outputs": [
    {
     "data": {
      "text/plain": [
       "0    0.925134\n",
       "1    0.074866\n",
       "Name: label, dtype: float64"
      ]
     },
     "execution_count": 16,
     "metadata": {},
     "output_type": "execute_result"
    }
   ],
   "source": [
    "y_train.value_counts(normalize=True)"
   ]
  },
  {
   "cell_type": "code",
   "execution_count": 17,
   "metadata": {},
   "outputs": [
    {
     "data": {
      "text/plain": [
       "0    0.931524\n",
       "1    0.068476\n",
       "Name: label, dtype: float64"
      ]
     },
     "execution_count": 17,
     "metadata": {},
     "output_type": "execute_result"
    }
   ],
   "source": [
    "y_test.value_counts(normalize=True)"
   ]
  },
  {
   "cell_type": "markdown",
   "metadata": {},
   "source": [
    "## Vectorization NLP "
   ]
  },
  {
   "cell_type": "code",
   "execution_count": 10,
   "metadata": {},
   "outputs": [],
   "source": [
    "# Create a function to fit and transform dataset to 2 kinds of Vectorizer\n",
    "def vectorizing(vec_name):\n",
    "    return vec_name.fit_transform(X_train), vec_name.transform(X_test)"
   ]
  },
  {
   "cell_type": "code",
   "execution_count": 18,
   "metadata": {},
   "outputs": [],
   "source": [
    "# Use default CountVectorizer and TfidfVecterizer parameter\n",
    "# The default parameter won't work, because model failed to converge\n",
    "# Use max_features = 200\n",
    "cvec = CountVectorizer(max_features=100, stop_words='english')\n",
    "X_train_cvec, X_test_cvec = vectorizing(cvec)\n",
    "tfidf = TfidfVectorizer(max_features=100, stop_words='english')\n",
    "X_train_tfidf, X_test_tfidf = vectorizing(tfidf)"
   ]
  },
  {
   "cell_type": "code",
   "execution_count": 30,
   "metadata": {},
   "outputs": [
    {
     "data": {
      "text/plain": [
       "(1621,)"
      ]
     },
     "execution_count": 30,
     "metadata": {},
     "output_type": "execute_result"
    }
   ],
   "source": [
    "y_test.shape"
   ]
  },
  {
   "cell_type": "markdown",
   "metadata": {},
   "source": [
    "### CountVectorizer, Train & Test"
   ]
  },
  {
   "cell_type": "code",
   "execution_count": 25,
   "metadata": {},
   "outputs": [
    {
     "data": {
      "text/plain": [
       "1    0.5\n",
       "0    0.5\n",
       "Name: label, dtype: float64"
      ]
     },
     "execution_count": 25,
     "metadata": {},
     "output_type": "execute_result"
    }
   ],
   "source": [
    "# Create the balanced training set and testing set seperately\n",
    "smt = SMOTE()\n",
    "X_train_cvec, y_train_cvec = smt.fit_sample(X_train_cvec, y_train)\n",
    "y_train_cvec.value_counts(normalize=True)"
   ]
  },
  {
   "cell_type": "code",
   "execution_count": 31,
   "metadata": {},
   "outputs": [
    {
     "data": {
      "text/plain": [
       "1    0.5\n",
       "0    0.5\n",
       "Name: label, dtype: float64"
      ]
     },
     "execution_count": 31,
     "metadata": {},
     "output_type": "execute_result"
    }
   ],
   "source": [
    "X_test_cvec, y_test_cvec = smt.fit_sample(X_test_cvec, y_test)\n",
    "y_test_cvec.value_counts(normalize=True)"
   ]
  },
  {
   "cell_type": "code",
   "execution_count": 36,
   "metadata": {},
   "outputs": [
    {
     "name": "stdout",
     "output_type": "stream",
     "text": [
      "(8996, 100) (3020, 100) (8996,) (3020,)\n"
     ]
    }
   ],
   "source": [
    "print(X_train_cvec.shape, X_test_cvec.shape, y_train_cvec.shape, y_test_cvec.shape)"
   ]
  },
  {
   "cell_type": "markdown",
   "metadata": {},
   "source": [
    "### TfidfVectorizer, Train & Test"
   ]
  },
  {
   "cell_type": "code",
   "execution_count": 32,
   "metadata": {},
   "outputs": [
    {
     "data": {
      "text/plain": [
       "1    0.5\n",
       "0    0.5\n",
       "Name: label, dtype: float64"
      ]
     },
     "execution_count": 32,
     "metadata": {},
     "output_type": "execute_result"
    }
   ],
   "source": [
    "# Create the balanced training set and testing set seperately\n",
    "smt = SMOTE()\n",
    "X_train_tfidf, y_train_tfidf = smt.fit_sample(X_train_tfidf, y_train)\n",
    "y_train_tfidf.value_counts(normalize=True)"
   ]
  },
  {
   "cell_type": "code",
   "execution_count": 34,
   "metadata": {},
   "outputs": [
    {
     "data": {
      "text/plain": [
       "1    0.5\n",
       "0    0.5\n",
       "Name: label, dtype: float64"
      ]
     },
     "execution_count": 34,
     "metadata": {},
     "output_type": "execute_result"
    }
   ],
   "source": [
    "X_test_tfidf, y_test_tfidf = smt.fit_sample(X_test_tfidf, y_test)\n",
    "y_test_tfidf.value_counts(normalize=True)"
   ]
  },
  {
   "cell_type": "code",
   "execution_count": 35,
   "metadata": {},
   "outputs": [
    {
     "name": "stdout",
     "output_type": "stream",
     "text": [
      "(8996, 100) (3020, 100) (8996,) (3020,)\n"
     ]
    }
   ],
   "source": [
    "print(X_train_tfidf.shape, X_test_tfidf.shape, y_train_tfidf.shape, y_test_tfidf.shape)"
   ]
  },
  {
   "cell_type": "code",
   "execution_count": 215,
   "metadata": {},
   "outputs": [],
   "source": []
  },
  {
   "cell_type": "code",
   "execution_count": 70,
   "metadata": {},
   "outputs": [
    {
     "data": {
      "text/html": [
       "['acute', 'admission', 'allergies', 'aortic', 'artery', 'aspirin', 'bid', 'blood', 'capsule', 'cardiac', 'care', 'chest', 'condition', 'continued', 'coronary', 'course', 'ct', 'daily', 'date', 'day', 'days', 'delayed', 'diabetes', 'discharge', 'disease', 'disp', 'dr', 'edema', 'exam', 'fax', 'follow', 'given', 'glucose', 'hct', 'heart', 'hgb', 'history', 'home', 'hospital', 'hospital1', 'hours', 'hr', 'hypertension', 'inr', 'instructions', 'insulin', 'iv', 'known', 'left', 'location', 'md', 'medical', 'medications', 'mg', 'mild', 'mitral', 'ml', 'namepattern1', 'needed', 'negative', 'normal', 'noted', 'pain', 'past', 'patient', 'physical', 'plt', 'pm', 'po', 'post', 'present', 'pressure', 'prior', 'procedure', 'pt', 'pulmonary', 'rbc', 'refills', 'release', 'right', 'seen', 'service', 'showed', 'sig', 'stable', 'started', 'status', 'stitle', 'surgery', 'tablet', 'telephone', 'time', 'times', 'transferred', 'unit', 'units', 'valve', 'ventricular', 'wbc', 'weeks']"
      ],
      "text/plain": [
       "['acute',\n",
       " 'admission',\n",
       " 'allergies',\n",
       " 'aortic',\n",
       " 'artery',\n",
       " 'aspirin',\n",
       " 'bid',\n",
       " 'blood',\n",
       " 'capsule',\n",
       " 'cardiac',\n",
       " 'care',\n",
       " 'chest',\n",
       " 'condition',\n",
       " 'continued',\n",
       " 'coronary',\n",
       " 'course',\n",
       " 'ct',\n",
       " 'daily',\n",
       " 'date',\n",
       " 'day',\n",
       " 'days',\n",
       " 'delayed',\n",
       " 'diabetes',\n",
       " 'discharge',\n",
       " 'disease',\n",
       " 'disp',\n",
       " 'dr',\n",
       " 'edema',\n",
       " 'exam',\n",
       " 'fax',\n",
       " 'follow',\n",
       " 'given',\n",
       " 'glucose',\n",
       " 'hct',\n",
       " 'heart',\n",
       " 'hgb',\n",
       " 'history',\n",
       " 'home',\n",
       " 'hospital',\n",
       " 'hospital1',\n",
       " 'hours',\n",
       " 'hr',\n",
       " 'hypertension',\n",
       " 'inr',\n",
       " 'instructions',\n",
       " 'insulin',\n",
       " 'iv',\n",
       " 'known',\n",
       " 'left',\n",
       " 'location',\n",
       " 'md',\n",
       " 'medical',\n",
       " 'medications',\n",
       " 'mg',\n",
       " 'mild',\n",
       " 'mitral',\n",
       " 'ml',\n",
       " 'namepattern1',\n",
       " 'needed',\n",
       " 'negative',\n",
       " 'normal',\n",
       " 'noted',\n",
       " 'pain',\n",
       " 'past',\n",
       " 'patient',\n",
       " 'physical',\n",
       " 'plt',\n",
       " 'pm',\n",
       " 'po',\n",
       " 'post',\n",
       " 'present',\n",
       " 'pressure',\n",
       " 'prior',\n",
       " 'procedure',\n",
       " 'pt',\n",
       " 'pulmonary',\n",
       " 'rbc',\n",
       " 'refills',\n",
       " 'release',\n",
       " 'right',\n",
       " 'seen',\n",
       " 'service',\n",
       " 'showed',\n",
       " 'sig',\n",
       " 'stable',\n",
       " 'started',\n",
       " 'status',\n",
       " 'stitle',\n",
       " 'surgery',\n",
       " 'tablet',\n",
       " 'telephone',\n",
       " 'time',\n",
       " 'times',\n",
       " 'transferred',\n",
       " 'unit',\n",
       " 'units',\n",
       " 'valve',\n",
       " 'ventricular',\n",
       " 'wbc',\n",
       " 'weeks']"
      ]
     },
     "execution_count": 70,
     "metadata": {},
     "output_type": "execute_result"
    }
   ],
   "source": [
    "# Create a dataframe to show the words features used in training set\n",
    "X_train_df = pd.DataFrame(X_train_cvec.toarray(), columns=cvec.get_feature_names())\n",
    "names = list(X_train_df.columns)\n",
    "names"
   ]
  },
  {
   "cell_type": "markdown",
   "metadata": {},
   "source": [
    "## Machine Learning Classification Models: Logistic Regression"
   ]
  },
  {
   "cell_type": "code",
   "execution_count": 50,
   "metadata": {},
   "outputs": [],
   "source": [
    "# Create a function to fit the model, cross validate the model, get the score for train and test set, get the metrics\n",
    "# def model_work(model_name, X_train, y_train, X_test, y_test):\n",
    "#     model_name.fit(X_train, y_train)\n",
    "#     cross_val_acc = round(cross_val_score(model_name, X_train, y_train).mean(),4)\n",
    "#     train_acc = round(model_name.score(X_train,y_train),4)\n",
    "#     test_acc = round(model_name.score(X_test,y_test),4)\n",
    "#     preds = model_name.predict(X_test)\n",
    "#     tn, fp, fn, tp = confusion_matrix(y_test, preds).ravel()\n",
    "#     sensitivity = tp/(tp+fn)\n",
    "#     specificity = tn/(tn+fp)\n",
    "#     precision = tp/(tp+fp)\n",
    "#     return cross_val_acc, train_acc, test_acc, sensitivity, specificity, precision, tp, fp"
   ]
  },
  {
   "cell_type": "code",
   "execution_count": 42,
   "metadata": {},
   "outputs": [
    {
     "name": "stderr",
     "output_type": "stream",
     "text": [
      "/Users/susanchen/opt/anaconda3/lib/python3.7/site-packages/sklearn/linear_model/_logistic.py:940: ConvergenceWarning: lbfgs failed to converge (status=1):\n",
      "STOP: TOTAL NO. of ITERATIONS REACHED LIMIT.\n",
      "\n",
      "Increase the number of iterations (max_iter) or scale the data as shown in:\n",
      "    https://scikit-learn.org/stable/modules/preprocessing.html\n",
      "Please also refer to the documentation for alternative solver options:\n",
      "    https://scikit-learn.org/stable/modules/linear_model.html#logistic-regression\n",
      "  extra_warning_msg=_LOGISTIC_SOLVER_CONVERGENCE_MSG)\n"
     ]
    },
    {
     "data": {
      "text/plain": [
       "LogisticRegression(C=0.001, class_weight=None, dual=False, fit_intercept=True,\n",
       "                   intercept_scaling=1, l1_ratio=None, max_iter=100,\n",
       "                   multi_class='auto', n_jobs=None, penalty='l2',\n",
       "                   random_state=None, solver='lbfgs', tol=0.0001, verbose=0,\n",
       "                   warm_start=False)"
      ]
     },
     "execution_count": 42,
     "metadata": {},
     "output_type": "execute_result"
    }
   ],
   "source": [
    "model_lg = LogisticRegression(C=0.001)\n",
    "model_lg.fit(X_train_cvec, y_train_cvec)"
   ]
  },
  {
   "cell_type": "code",
   "execution_count": 44,
   "metadata": {},
   "outputs": [],
   "source": [
    "#cross_val_acc, train_acc, test_acc, sensitivity, specificity, precision, tp, fp "
   ]
  },
  {
   "cell_type": "code",
   "execution_count": 60,
   "metadata": {},
   "outputs": [
    {
     "name": "stderr",
     "output_type": "stream",
     "text": [
      "/Users/susanchen/opt/anaconda3/lib/python3.7/site-packages/ipykernel_launcher.py:11: RuntimeWarning: invalid value encountered in long_scalars\n",
      "  # This is added back by InteractiveShellApp.init_path()\n"
     ]
    }
   ],
   "source": [
    "model_lg = LogisticRegression()\n",
    "cross_val_acc, train_acc, test_acc, sensitivity, specificity, precision, tp, fp = model_work(model_lg, \n",
    "                                                                                             X_train_tfidf,\n",
    "                                                                                             y_train,\n",
    "                                                                                             X_test_tfidf,\n",
    "                                                                                             y_test)"
   ]
  },
  {
   "cell_type": "code",
   "execution_count": 67,
   "metadata": {},
   "outputs": [
    {
     "data": {
      "text/plain": [
       "(0.9177, 0.9255, 0.9229, 0.0, 0.990728476821192, 0.0, 0, 14)"
      ]
     },
     "execution_count": 67,
     "metadata": {},
     "output_type": "execute_result"
    }
   ],
   "source": [
    "cross_val_acc, train_acc, test_acc, sensitivity, specificity, precision, tp, fp"
   ]
  },
  {
   "cell_type": "markdown",
   "metadata": {},
   "source": [
    "## Machine Learning Classification Models: Random Forest"
   ]
  },
  {
   "cell_type": "code",
   "execution_count": 45,
   "metadata": {},
   "outputs": [],
   "source": [
    "model_rf = RandomForestClassifier(n_estimators=50, max_depth=2)\n",
    "model_rf.fit(X_train_cvec, y_train_cvec)\n",
    "cross_val_acc = round(cross_val_score(model_rf, X_train_cvec, y_train_cvec).mean(),4)\n",
    "train_acc = round(model_rf.score(X_train_cvec,y_train_cvec),4)\n",
    "test_acc = round(model_rf.score(X_test_cvec,y_test_cvec),4)\n",
    "preds = model_rf.predict(X_test_cvec)\n",
    "tn, fp, fn, tp = confusion_matrix(y_test_cvec, preds).ravel()"
   ]
  },
  {
   "cell_type": "code",
   "execution_count": 46,
   "metadata": {},
   "outputs": [
    {
     "name": "stdout",
     "output_type": "stream",
     "text": [
      " cross_val_acc = 0.6998\n",
      " train_acc = 0.7005 \n",
      " test_acc = 0.6646\n",
      " tn, fp, fn, tp (1029, 481, 532, 978)\n"
     ]
    }
   ],
   "source": [
    "# cvec (max_features=200, stop_words='english', max_df=0.8), rf (n_estimators = 50, max_depth =2)\n",
    "print(f' cross_val_acc = {cross_val_acc}\\n train_acc = {train_acc} \\n test_acc = {test_acc}\\n tn, fp, fn, tp {tn, fp, fn, tp}' )"
   ]
  },
  {
   "cell_type": "code",
   "execution_count": 47,
   "metadata": {},
   "outputs": [],
   "source": [
    "model_rf = RandomForestClassifier(n_estimators=50, max_depth=2)\n",
    "model_rf.fit(X_train_tfidf, y_train_tfidf)\n",
    "cross_val_acc = round(cross_val_score(model_rf, X_train_tfidf, y_train_tfidf).mean(),4)\n",
    "train_acc = round(model_rf.score(X_train_tfidf,y_train_tfidf),4)\n",
    "test_acc = round(model_rf.score(X_test_tfidf,y_test_tfidf),4)\n",
    "preds = model_rf.predict(X_test_tfidf)\n",
    "tn, fp, fn, tp = confusion_matrix(y_test_tfidf, preds).ravel()"
   ]
  },
  {
   "cell_type": "code",
   "execution_count": 48,
   "metadata": {},
   "outputs": [
    {
     "name": "stdout",
     "output_type": "stream",
     "text": [
      " cross_val_acc = 0.7822\n",
      " train_acc = 0.7685 \n",
      " test_acc = 0.7705\n",
      " tn, fp, fn, tp (1125, 385, 308, 1202)\n"
     ]
    }
   ],
   "source": [
    "# tfidf (max_features=200, stop_words='english', max_df=0.8), rf (n_estimators = 50, max_depth =2)\n",
    "print(f' cross_val_acc = {cross_val_acc}\\n train_acc = {train_acc} \\n test_acc = {test_acc}\\n tn, fp, fn, tp {tn, fp, fn, tp}' )"
   ]
  },
  {
   "cell_type": "code",
   "execution_count": 69,
   "metadata": {},
   "outputs": [
    {
     "data": {
      "text/html": [
       "[(0.1697, 'units'), (0.1312, 'negative'), (0.1001, 'unit'), (0.0792, 'prior'), (0.07, 'insulin'), (0.0456, 'noted'), (0.0419, 'continued'), (0.0374, 'given'), (0.0311, 'pulmonary'), (0.029, 'ct'), (0.0276, 'acute'), (0.0242, 'location'), (0.0228, 'seen'), (0.0225, 'post'), (0.0216, 'inr'), (0.0135, 'md'), (0.0105, 'weeks'), (0.0103, 'ml'), (0.0103, 'hr'), (0.0101, 'time'), (0.0096, 'iv'), (0.0093, 'hospital1'), (0.0088, 'care'), (0.0075, 'edema'), (0.007, 'known'), (0.0067, 'pt'), (0.0062, 'status'), (0.0059, 'days'), (0.0046, 'pressure'), (0.003, 'coronary')]"
      ],
      "text/plain": [
       "[(0.1697, 'units'),\n",
       " (0.1312, 'negative'),\n",
       " (0.1001, 'unit'),\n",
       " (0.0792, 'prior'),\n",
       " (0.07, 'insulin'),\n",
       " (0.0456, 'noted'),\n",
       " (0.0419, 'continued'),\n",
       " (0.0374, 'given'),\n",
       " (0.0311, 'pulmonary'),\n",
       " (0.029, 'ct'),\n",
       " (0.0276, 'acute'),\n",
       " (0.0242, 'location'),\n",
       " (0.0228, 'seen'),\n",
       " (0.0225, 'post'),\n",
       " (0.0216, 'inr'),\n",
       " (0.0135, 'md'),\n",
       " (0.0105, 'weeks'),\n",
       " (0.0103, 'ml'),\n",
       " (0.0103, 'hr'),\n",
       " (0.0101, 'time'),\n",
       " (0.0096, 'iv'),\n",
       " (0.0093, 'hospital1'),\n",
       " (0.0088, 'care'),\n",
       " (0.0075, 'edema'),\n",
       " (0.007, 'known'),\n",
       " (0.0067, 'pt'),\n",
       " (0.0062, 'status'),\n",
       " (0.0059, 'days'),\n",
       " (0.0046, 'pressure'),\n",
       " (0.003, 'coronary')]"
      ]
     },
     "execution_count": 69,
     "metadata": {},
     "output_type": "execute_result"
    }
   ],
   "source": [
    "feature_importance_tup = sorted(zip(map(lambda x: round(x, 4), model_rf.feature_importances_), names), reverse=True)\n",
    "feature_importance_tup[:30]"
   ]
  },
  {
   "cell_type": "code",
   "execution_count": 49,
   "metadata": {},
   "outputs": [],
   "source": [
    "# rf = RandomForestClassifier()\n",
    "# rf_params = {\n",
    "#     'n_estimators':[25,50,100],\n",
    "#     'max_depth':[3,4,5]\n",
    "# }\n",
    "\n",
    "# gs_rf = GridSearchCV(rf, \n",
    "#                      param_grid=rf_params,\n",
    "#                      cv=5)\n",
    "\n",
    "# gs_rf.fit(X_train_cvec, y_train)"
   ]
  },
  {
   "cell_type": "code",
   "execution_count": 50,
   "metadata": {},
   "outputs": [],
   "source": [
    "# print(gs_rf.best_score_)\n",
    "# print(gs_rf.best_params_)\n",
    "# print(gs_rf.score(X_test_cvec, y_test))"
   ]
  },
  {
   "cell_type": "markdown",
   "metadata": {},
   "source": [
    "## Machine Learning Classification Models: XG Boost"
   ]
  },
  {
   "cell_type": "markdown",
   "metadata": {},
   "source": [
    "### CountVectorizer"
   ]
  },
  {
   "cell_type": "code",
   "execution_count": 57,
   "metadata": {},
   "outputs": [],
   "source": [
    "model_xg1 = XGBClassifier()\n",
    "model_xg1.fit(X_train_cvec, y_train_cvec)\n",
    "cross_val_acc1 = round(cross_val_score(model_xg1, X_train_cvec, y_train_cvec).mean(),4)\n",
    "train_acc1 = round(model_xg1.score(X_train_cvec,y_train_cvec),4)\n",
    "test_acc1 = round(model_xg1.score(X_test_cvec,y_test_cvec),4)\n",
    "preds1 = model_xg1.predict(X_test_cvec)\n",
    "tn, fp, fn, tp = confusion_matrix(y_test_cvec, preds1).ravel()"
   ]
  },
  {
   "cell_type": "code",
   "execution_count": 58,
   "metadata": {},
   "outputs": [
    {
     "name": "stdout",
     "output_type": "stream",
     "text": [
      " cross_val_acc = 0.9567\n",
      " train_acc = 0.958 \n",
      " test_acc = 0.9609\n",
      " tn, fp, fn, tp (1510, 0, 118, 1392)\n"
     ]
    }
   ],
   "source": [
    "print(f' cross_val_acc = {cross_val_acc1}\\n train_acc = {train_acc1} \\n test_acc = {test_acc1}\\n tn, fp, fn, tp {tn, fp, fn, tp}' )"
   ]
  },
  {
   "cell_type": "code",
   "execution_count": 59,
   "metadata": {},
   "outputs": [
    {
     "data": {
      "text/plain": [
       "0.9609"
      ]
     },
     "execution_count": 59,
     "metadata": {},
     "output_type": "execute_result"
    }
   ],
   "source": [
    "round(model_xg1.score(X_test_cvec, y_test_cvec),4)"
   ]
  },
  {
   "cell_type": "code",
   "execution_count": 64,
   "metadata": {},
   "outputs": [
    {
     "data": {
      "text/plain": [
       "[(0.062, 'hypertension'),\n",
       " (0.0534, 'cardiac'),\n",
       " (0.0496, 'noted'),\n",
       " (0.0455, 'heart'),\n",
       " (0.0424, 'weeks'),\n",
       " (0.0364, 'iv'),\n",
       " (0.0361, 'namepattern1'),\n",
       " (0.0347, 'inr'),\n",
       " (0.0322, 'location'),\n",
       " (0.0318, 'pressure'),\n",
       " (0.0296, 'aspirin'),\n",
       " (0.0295, 'insulin'),\n",
       " (0.0287, 'transferred'),\n",
       " (0.0279, 'acute'),\n",
       " (0.0264, 'surgery')]"
      ]
     },
     "execution_count": 64,
     "metadata": {},
     "output_type": "execute_result"
    }
   ],
   "source": [
    "feature_importance_xg = sorted(zip(map(lambda x: round(x, 4), model_xg1.feature_importances_), names), reverse=True)\n",
    "feature_importance_xg[:15]"
   ]
  },
  {
   "cell_type": "code",
   "execution_count": 66,
   "metadata": {},
   "outputs": [
    {
     "data": {
      "image/png": "[encoded data removed]",
      "text/plain": [
       "<Figure size 576x684 with 1 Axes>"
      ]
     },
     "metadata": {
      "needs_background": "light"
     },
     "output_type": "display_data"
    }
   ],
   "source": [
    "import shap\n",
    "shap_values = shap.TreeExplainer(model_xg1).shap_values(X_train_cvec)\n",
    "shap.summary_plot(shap_values, X_train_cvec, plot_type=\"bar\", feature_names=cvec.get_feature_names())"
   ]
  },
  {
   "cell_type": "code",
   "execution_count": 67,
   "metadata": {},
   "outputs": [
    {
     "data": {
      "image/png": "[encoded data removed]",
      "text/plain": [
       "<Figure size 576x684 with 2 Axes>"
      ]
     },
     "metadata": {
      "needs_background": "light"
     },
     "output_type": "display_data"
    }
   ],
   "source": [
    "shap.summary_plot(shap_values, X_train_cvec,feature_names=cvec.get_feature_names())"
   ]
  },
  {
   "cell_type": "markdown",
   "metadata": {},
   "source": [
    "### TfidfVectorizer"
   ]
  },
  {
   "cell_type": "code",
   "execution_count": 61,
   "metadata": {},
   "outputs": [],
   "source": [
    "model_xg2 = XGBClassifier()\n",
    "model_xg2.fit(X_train_tfidf, y_train_tfidf)\n",
    "cross_val_acc2 = round(cross_val_score(model_xg2, X_train_tfidf, y_train_tfidf).mean(),4)\n",
    "train_acc2 = round(model_xg2.score(X_train_tfidf,y_train_tfidf),4)\n",
    "test_acc2 = round(model_xg2.score(X_test_tfidf,y_test_tfidf),4)\n",
    "preds2 = model_xg2.predict(X_test_tfidf)\n",
    "tn, fp, fn, tp = confusion_matrix(y_test_tfidf, preds2).ravel()"
   ]
  },
  {
   "cell_type": "code",
   "execution_count": 62,
   "metadata": {},
   "outputs": [
    {
     "name": "stdout",
     "output_type": "stream",
     "text": [
      " cross_val_acc = 0.9291\n",
      " train_acc = 0.943 \n",
      " test_acc = 0.9033\n",
      " tn, fp, fn, tp (1449, 61, 231, 1279)\n"
     ]
    }
   ],
   "source": [
    "print(f' cross_val_acc = {cross_val_acc2}\\n train_acc = {train_acc2} \\n test_acc = {test_acc2}\\n tn, fp, fn, tp {tn, fp, fn, tp}' )"
   ]
  },
  {
   "cell_type": "markdown",
   "metadata": {},
   "source": [
    "## Machine Learning Classification Models: SVM"
   ]
  },
  {
   "cell_type": "markdown",
   "metadata": {},
   "source": [
    "### CountVectorizer"
   ]
  },
  {
   "cell_type": "code",
   "execution_count": 73,
   "metadata": {},
   "outputs": [
    {
     "data": {
      "text/plain": [
       "0.6903973509933775"
      ]
     },
     "execution_count": 73,
     "metadata": {},
     "output_type": "execute_result"
    }
   ],
   "source": [
    "svc1 =SVC(gamma = 'scale', random_state=42)\n",
    "svc1.fit(X_train_cvec, y_train_cvec)\n",
    "\n",
    "y_pred1 = svc.predict(X_test_cvec)\n",
    "accuracy_score(y_test_cvec, y_pred1)"
   ]
  },
  {
   "cell_type": "code",
   "execution_count": 76,
   "metadata": {},
   "outputs": [
    {
     "data": {
      "text/plain": [
       "(1301, 209, 726, 784)"
      ]
     },
     "execution_count": 76,
     "metadata": {},
     "output_type": "execute_result"
    }
   ],
   "source": [
    "tn, fp, fn, tp = confusion_matrix(y_test_cvec,y_pred1).ravel()\n",
    "tn, fp, fn, tp"
   ]
  },
  {
   "cell_type": "markdown",
   "metadata": {},
   "source": [
    "### TfidfVectorizer"
   ]
  },
  {
   "cell_type": "code",
   "execution_count": 77,
   "metadata": {},
   "outputs": [
    {
     "name": "stdout",
     "output_type": "stream",
     "text": [
      "0.5\n"
     ]
    },
    {
     "data": {
      "text/plain": [
       "(0, 1510, 0, 1510)"
      ]
     },
     "execution_count": 77,
     "metadata": {},
     "output_type": "execute_result"
    }
   ],
   "source": [
    "svc2 =SVC(gamma = 'scale', random_state=42)\n",
    "svc2.fit(X_train_tfidf, y_train_tfidf)\n",
    "\n",
    "y_pred2 = svc.predict(X_test_tfidf)\n",
    "print(round(accuracy_score(y_test_tfidf, y_pred2),4))\n",
    "tn, fp, fn, tp = confusion_matrix(y_test_tfidf,y_pred2).ravel()\n",
    "tn, fp, fn, tp"
   ]
  },
  {
   "cell_type": "markdown",
   "metadata": {},
   "source": [
    "## Machine Learning Classification Models: FFNN(feed forward neutral network)"
   ]
  },
  {
   "cell_type": "code",
   "execution_count": 79,
   "metadata": {},
   "outputs": [
    {
     "data": {
      "text/plain": [
       "100"
      ]
     },
     "execution_count": 79,
     "metadata": {},
     "output_type": "execute_result"
    }
   ],
   "source": [
    "n_input = X_train_cvec.shape[1]\n",
    "n_input"
   ]
  },
  {
   "cell_type": "code",
   "execution_count": 97,
   "metadata": {},
   "outputs": [
    {
     "name": "stdout",
     "output_type": "stream",
     "text": [
      "Train on 8996 samples, validate on 3020 samples\n",
      "Epoch 1/10\n",
      " - 1s - loss: 3.6363 - acc: 0.6981 - val_loss: 1.4145 - val_acc: 0.6639\n",
      "Epoch 2/10\n",
      " - 1s - loss: 0.9642 - acc: 0.7547 - val_loss: 0.9008 - val_acc: 0.7089\n",
      "Epoch 3/10\n",
      " - 1s - loss: 0.6970 - acc: 0.7709 - val_loss: 0.8329 - val_acc: 0.6474\n",
      "Epoch 4/10\n",
      " - 1s - loss: 0.6236 - acc: 0.7761 - val_loss: 0.7932 - val_acc: 0.6540\n",
      "Epoch 5/10\n",
      " - 1s - loss: 0.5904 - acc: 0.7789 - val_loss: 0.7120 - val_acc: 0.6894\n",
      "Epoch 6/10\n",
      " - 1s - loss: 0.5624 - acc: 0.7831 - val_loss: 0.6939 - val_acc: 0.7010\n",
      "Epoch 7/10\n",
      " - 1s - loss: 0.5554 - acc: 0.7890 - val_loss: 0.6777 - val_acc: 0.7119\n",
      "Epoch 8/10\n",
      " - 1s - loss: 0.5455 - acc: 0.7830 - val_loss: 0.7084 - val_acc: 0.6957\n",
      "Epoch 9/10\n",
      " - 1s - loss: 0.5273 - acc: 0.8012 - val_loss: 0.6774 - val_acc: 0.6937\n",
      "Epoch 10/10\n",
      " - 1s - loss: 0.5063 - acc: 0.8165 - val_loss: 0.6910 - val_acc: 0.6987\n"
     ]
    }
   ],
   "source": [
    "model_ffnn = Sequential()\n",
    "\n",
    "lam=0.09\n",
    "model_ffnn.add(Dense(n_input,\n",
    "                   input_dim = n_input,\n",
    "                   activation = 'relu',\n",
    "                   kernel_regularizer = regularizers.l2(lam)\n",
    "                       ))\n",
    "model_dropout = Sequential()\n",
    "model_dropout.add(Dropout(0.5))\n",
    "model_ffnn.add(Dense(1,\n",
    "                   activation='sigmoid'))\n",
    "\n",
    "model_ffnn.compile(loss='binary_crossentropy',\n",
    "                 optimizer='adam',\n",
    "                 metrics=['acc'])\n",
    "early_stop = EarlyStopping(monitor = 'val_loss', \n",
    "                           min_delta=0, \n",
    "                           patience=5,\n",
    "                           mode='auto')\n",
    "history_all = model_ffnn.fit(X_train_cvec,\n",
    "                          y_train_cvec,\n",
    "                          validation_data=(X_test_cvec,y_test_cvec),\n",
    "                          epochs=10,\n",
    "                          batch_size=None,\n",
    "                          verbose=2,\n",
    "                          callbacks=[early_stop]\n",
    "                          )"
   ]
  },
  {
   "cell_type": "code",
   "execution_count": 98,
   "metadata": {},
   "outputs": [
    {
     "data": {
      "image/png": "[encoded data removed]",
      "text/plain": [
       "<Figure size 864x576 with 1 Axes>"
      ]
     },
     "metadata": {
      "needs_background": "light"
     },
     "output_type": "display_data"
    }
   ],
   "source": [
    "train_loss_all = history_all.history['loss']\n",
    "test_loss_all = history_all.history['val_loss']\n",
    "plt.figure(figsize=(12, 8))\n",
    "plt.plot(train_loss_all, label='Training loss', color='navy')\n",
    "plt.plot(test_loss_all, label='Testing loss', color='skyblue')\n",
    "plt.legend();"
   ]
  },
  {
   "cell_type": "code",
   "execution_count": 99,
   "metadata": {},
   "outputs": [
    {
     "data": {
      "text/plain": [
       "(0.81647396, 0.6986755132675171)"
      ]
     },
     "execution_count": 99,
     "metadata": {},
     "output_type": "execute_result"
    }
   ],
   "source": [
    "history_all.history['acc'][-1], history_all.history['val_acc'][-1]"
   ]
  },
  {
   "cell_type": "code",
   "execution_count": null,
   "metadata": {},
   "outputs": [],
   "source": []
  }
 ],
 "metadata": {
  "kernelspec": {
   "display_name": "Python 3",
   "language": "python",
   "name": "python3"
  },
  "language_info": {
   "codemirror_mode": {
    "name": "ipython",
    "version": 3
   },
   "file_extension": ".py",
   "mimetype": "text/x-python",
   "name": "python",
   "nbconvert_exporter": "python",
   "pygments_lexer": "ipython3",
   "version": "3.7.4"
  }
 },
 "nbformat": 4,
 "nbformat_minor": 2
}
