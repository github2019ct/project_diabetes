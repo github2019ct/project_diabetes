{
 "cells": [
  {
   "cell_type": "code",
   "execution_count": 38,
   "metadata": {},
   "outputs": [],
   "source": [
    "import matplotlib.pyplot as plt\n",
    "import pandas as pd\n",
    "import numpy as np\n",
    "\n",
    "from sklearn.model_selection import train_test_split, cross_val_score, GridSearchCV\n",
    "from sklearn.feature_extraction.text import CountVectorizer, TfidfVectorizer\n",
    "from sklearn.preprocessing import StandardScaler\n",
    "from sklearn.metrics import confusion_matrix, accuracy_score\n",
    "\n",
    "from sklearn.linear_model import LogisticRegression\n",
    "from sklearn.ensemble import RandomForestClassifier\n",
    "from xgboost import XGBClassifier\n",
    "from sklearn.svm import SVC\n",
    "from sklearn.naive_bayes import MultinomialNB\n",
    "from keras.models import Sequential\n",
    "from keras.layers import Dense\n",
    "from keras import regularizers\n",
    "from keras.layers import Dropout\n",
    "from keras.callbacks import EarlyStopping\n",
    "\n",
    "from imblearn.over_sampling import SMOTE\n",
    "\n",
    "%matplotlib inline"
   ]
  },
  {
   "cell_type": "markdown",
   "metadata": {},
   "source": [
    "## Load the MIMIC data"
   ]
  },
  {
   "cell_type": "code",
   "execution_count": 2,
   "metadata": {},
   "outputs": [],
   "source": [
    "df = pd.read_csv('../data/MIMIC_train_test.csv')\n",
    "df.drop(columns='Unnamed: 0',inplace=True)"
   ]
  },
  {
   "cell_type": "code",
   "execution_count": 3,
   "metadata": {},
   "outputs": [
    {
     "data": {
      "text/plain": [
       "(6483, 3)"
      ]
     },
     "execution_count": 3,
     "metadata": {},
     "output_type": "execute_result"
    }
   ],
   "source": [
    "df.shape"
   ]
  },
  {
   "cell_type": "markdown",
   "metadata": {},
   "source": [
    "## Prepare Text Data for Machine Learning"
   ]
  },
  {
   "cell_type": "code",
   "execution_count": 4,
   "metadata": {},
   "outputs": [
    {
     "name": "stdout",
     "output_type": "stream",
     "text": [
      "The base line is 0.9267\n"
     ]
    }
   ],
   "source": [
    "# The base line for this dataset\n",
    "base = round(len(df[df['label']==0])/(len(df)),4)\n",
    "print(f'The base line is {base}')"
   ]
  },
  {
   "cell_type": "code",
   "execution_count": 5,
   "metadata": {},
   "outputs": [],
   "source": [
    "# Split the train and test data\n",
    "X = df['text_list']\n",
    "y = df['label']\n",
    "\n",
    "X_train, X_test, y_train, y_test = train_test_split(X,\n",
    "                                                    y,\n",
    "                                                    random_state = 42)"
   ]
  },
  {
   "cell_type": "code",
   "execution_count": 6,
   "metadata": {},
   "outputs": [
    {
     "data": {
      "text/plain": [
       "0    6008\n",
       "1     475\n",
       "Name: label, dtype: int64"
      ]
     },
     "execution_count": 6,
     "metadata": {},
     "output_type": "execute_result"
    }
   ],
   "source": [
    "y.value_counts()"
   ]
  },
  {
   "cell_type": "code",
   "execution_count": 7,
   "metadata": {},
   "outputs": [
    {
     "data": {
      "text/plain": [
       "0    0.925134\n",
       "1    0.074866\n",
       "Name: label, dtype: float64"
      ]
     },
     "execution_count": 7,
     "metadata": {},
     "output_type": "execute_result"
    }
   ],
   "source": [
    "y_train.value_counts(normalize=True)"
   ]
  },
  {
   "cell_type": "code",
   "execution_count": 8,
   "metadata": {},
   "outputs": [
    {
     "data": {
      "text/plain": [
       "0    0.931524\n",
       "1    0.068476\n",
       "Name: label, dtype: float64"
      ]
     },
     "execution_count": 8,
     "metadata": {},
     "output_type": "execute_result"
    }
   ],
   "source": [
    "y_test.value_counts(normalize=True)"
   ]
  },
  {
   "cell_type": "markdown",
   "metadata": {},
   "source": [
    "## Vectorization NLP "
   ]
  },
  {
   "cell_type": "code",
   "execution_count": 9,
   "metadata": {},
   "outputs": [],
   "source": [
    "# Create a function to fit and transform dataset to 2 kinds of Vectorizer\n",
    "def vectorizing(vec_name):\n",
    "    return vec_name.fit_transform(X_train), vec_name.transform(X_test)"
   ]
  },
  {
   "cell_type": "code",
   "execution_count": 10,
   "metadata": {},
   "outputs": [],
   "source": [
    "# Use default CountVectorizer and TfidfVecterizer parameter\n",
    "# The default parameter won't work, because model failed to converge\n",
    "# Use max_features = 200\n",
    "cvec = CountVectorizer(max_features=100, stop_words='english')\n",
    "X_train_cvec, X_test_cvec = vectorizing(cvec)\n",
    "tfidf = TfidfVectorizer(max_features=100, stop_words='english')\n",
    "X_train_tfidf, X_test_tfidf = vectorizing(tfidf)"
   ]
  },
  {
   "cell_type": "code",
   "execution_count": 11,
   "metadata": {},
   "outputs": [
    {
     "data": {
      "text/plain": [
       "(1621,)"
      ]
     },
     "execution_count": 11,
     "metadata": {},
     "output_type": "execute_result"
    }
   ],
   "source": [
    "y_test.shape"
   ]
  },
  {
   "cell_type": "markdown",
   "metadata": {},
   "source": [
    "### CountVectorizer, Train & Test"
   ]
  },
  {
   "cell_type": "code",
   "execution_count": 12,
   "metadata": {},
   "outputs": [
    {
     "data": {
      "text/plain": [
       "1    0.5\n",
       "0    0.5\n",
       "Name: label, dtype: float64"
      ]
     },
     "execution_count": 12,
     "metadata": {},
     "output_type": "execute_result"
    }
   ],
   "source": [
    "# Create the balanced training set and testing set seperately\n",
    "smt = SMOTE()\n",
    "X_train_cvec, y_train_cvec = smt.fit_sample(X_train_cvec, y_train)\n",
    "y_train_cvec.value_counts(normalize=True)"
   ]
  },
  {
   "cell_type": "code",
   "execution_count": 13,
   "metadata": {},
   "outputs": [
    {
     "data": {
      "text/plain": [
       "1    0.5\n",
       "0    0.5\n",
       "Name: label, dtype: float64"
      ]
     },
     "execution_count": 13,
     "metadata": {},
     "output_type": "execute_result"
    }
   ],
   "source": [
    "X_test_cvec, y_test_cvec = smt.fit_sample(X_test_cvec, y_test)\n",
    "y_test_cvec.value_counts(normalize=True)"
   ]
  },
  {
   "cell_type": "code",
   "execution_count": 14,
   "metadata": {},
   "outputs": [
    {
     "name": "stdout",
     "output_type": "stream",
     "text": [
      "(8996, 100) (3020, 100) (8996,) (3020,)\n"
     ]
    }
   ],
   "source": [
    "print(X_train_cvec.shape, X_test_cvec.shape, y_train_cvec.shape, y_test_cvec.shape)"
   ]
  },
  {
   "cell_type": "markdown",
   "metadata": {},
   "source": [
    "### TfidfVectorizer, Train & Test"
   ]
  },
  {
   "cell_type": "code",
   "execution_count": 15,
   "metadata": {},
   "outputs": [
    {
     "data": {
      "text/plain": [
       "1    0.5\n",
       "0    0.5\n",
       "Name: label, dtype: float64"
      ]
     },
     "execution_count": 15,
     "metadata": {},
     "output_type": "execute_result"
    }
   ],
   "source": [
    "# Create the balanced training set and testing set seperately\n",
    "smt = SMOTE()\n",
    "X_train_tfidf, y_train_tfidf = smt.fit_sample(X_train_tfidf, y_train)\n",
    "y_train_tfidf.value_counts(normalize=True)"
   ]
  },
  {
   "cell_type": "code",
   "execution_count": 16,
   "metadata": {},
   "outputs": [
    {
     "data": {
      "text/plain": [
       "1    0.5\n",
       "0    0.5\n",
       "Name: label, dtype: float64"
      ]
     },
     "execution_count": 16,
     "metadata": {},
     "output_type": "execute_result"
    }
   ],
   "source": [
    "X_test_tfidf, y_test_tfidf = smt.fit_sample(X_test_tfidf, y_test)\n",
    "y_test_tfidf.value_counts(normalize=True)"
   ]
  },
  {
   "cell_type": "code",
   "execution_count": 17,
   "metadata": {},
   "outputs": [
    {
     "name": "stdout",
     "output_type": "stream",
     "text": [
      "(8996, 100) (3020, 100) (8996,) (3020,)\n"
     ]
    }
   ],
   "source": [
    "print(X_train_tfidf.shape, X_test_tfidf.shape, y_train_tfidf.shape, y_test_tfidf.shape)"
   ]
  },
  {
   "cell_type": "code",
   "execution_count": 19,
   "metadata": {},
   "outputs": [
    {
     "data": {
      "text/plain": [
       "'acute'"
      ]
     },
     "execution_count": 19,
     "metadata": {},
     "output_type": "execute_result"
    }
   ],
   "source": [
    "# Create a dataframe to show the words features used in training set\n",
    "X_train_df = pd.DataFrame(X_train_cvec.toarray(), columns=cvec.get_feature_names())\n",
    "names = list(X_train_df.columns)\n",
    "names[0]"
   ]
  },
  {
   "cell_type": "markdown",
   "metadata": {},
   "source": [
    "## Machine Learning Classification Models: Logistic Regression"
   ]
  },
  {
   "cell_type": "code",
   "execution_count": 42,
   "metadata": {},
   "outputs": [
    {
     "name": "stderr",
     "output_type": "stream",
     "text": [
      "/Users/susanchen/opt/anaconda3/lib/python3.7/site-packages/sklearn/linear_model/_logistic.py:940: ConvergenceWarning: lbfgs failed to converge (status=1):\n",
      "STOP: TOTAL NO. of ITERATIONS REACHED LIMIT.\n",
      "\n",
      "Increase the number of iterations (max_iter) or scale the data as shown in:\n",
      "    https://scikit-learn.org/stable/modules/preprocessing.html\n",
      "Please also refer to the documentation for alternative solver options:\n",
      "    https://scikit-learn.org/stable/modules/linear_model.html#logistic-regression\n",
      "  extra_warning_msg=_LOGISTIC_SOLVER_CONVERGENCE_MSG)\n"
     ]
    },
    {
     "data": {
      "text/plain": [
       "LogisticRegression(C=0.001, class_weight=None, dual=False, fit_intercept=True,\n",
       "                   intercept_scaling=1, l1_ratio=None, max_iter=100,\n",
       "                   multi_class='auto', n_jobs=None, penalty='l2',\n",
       "                   random_state=None, solver='lbfgs', tol=0.0001, verbose=0,\n",
       "                   warm_start=False)"
      ]
     },
     "execution_count": 42,
     "metadata": {},
     "output_type": "execute_result"
    }
   ],
   "source": [
    "model_lg = LogisticRegression(C=0.001)\n",
    "model_lg.fit(X_train_cvec, y_train_cvec)"
   ]
  },
  {
   "cell_type": "code",
   "execution_count": 44,
   "metadata": {},
   "outputs": [],
   "source": [
    "#cross_val_acc, train_acc, test_acc, sensitivity, specificity, precision, tp, fp "
   ]
  },
  {
   "cell_type": "code",
   "execution_count": 60,
   "metadata": {},
   "outputs": [
    {
     "name": "stderr",
     "output_type": "stream",
     "text": [
      "/Users/susanchen/opt/anaconda3/lib/python3.7/site-packages/ipykernel_launcher.py:11: RuntimeWarning: invalid value encountered in long_scalars\n",
      "  # This is added back by InteractiveShellApp.init_path()\n"
     ]
    }
   ],
   "source": [
    "model_lg = LogisticRegression()\n",
    "cross_val_acc, train_acc, test_acc, sensitivity, specificity, precision, tp, fp = model_work(model_lg, \n",
    "                                                                                             X_train_tfidf,\n",
    "                                                                                             y_train,\n",
    "                                                                                             X_test_tfidf,\n",
    "                                                                                             y_test)"
   ]
  },
  {
   "cell_type": "code",
   "execution_count": 67,
   "metadata": {},
   "outputs": [
    {
     "data": {
      "text/plain": [
       "(0.9177, 0.9255, 0.9229, 0.0, 0.990728476821192, 0.0, 0, 14)"
      ]
     },
     "execution_count": 67,
     "metadata": {},
     "output_type": "execute_result"
    }
   ],
   "source": [
    "cross_val_acc, train_acc, test_acc, sensitivity, specificity, precision, tp, fp"
   ]
  },
  {
   "cell_type": "markdown",
   "metadata": {},
   "source": [
    "### The Logistic Regression model kept fail to converge. The results are not reliable. I won't include this model in my model comparison."
   ]
  },
  {
   "cell_type": "markdown",
   "metadata": {},
   "source": [
    "## Machine Learning Classification Models: Random Forest"
   ]
  },
  {
   "cell_type": "code",
   "execution_count": 24,
   "metadata": {},
   "outputs": [
    {
     "name": "stdout",
     "output_type": "stream",
     "text": [
      " cross_val_acc = 0.6944\n",
      " train_acc = 0.698 \n",
      " test_acc = 0.6424\n",
      " tn, fp, fn, tp (910, 600, 480, 1030)\n"
     ]
    }
   ],
   "source": [
    "# Model work with balanced CountVecoterizing data\n",
    "model_rf1 = RandomForestClassifier(n_estimators=50, max_depth=2)\n",
    "model_rf1.fit(X_train_cvec, y_train_cvec)\n",
    "cross_val_acc1 = round(cross_val_score(model_rf1, X_train_cvec, y_train_cvec).mean(),4)\n",
    "train_acc1 = round(model_rf1.score(X_train_cvec,y_train_cvec),4)\n",
    "test_acc1 = round(model_rf1.score(X_test_cvec,y_test_cvec),4)\n",
    "preds1 = model_rf1.predict(X_test_cvec)\n",
    "tn, fp, fn, tp = confusion_matrix(y_test_cvec, preds1).ravel()\n",
    "print(f' cross_val_acc = {cross_val_acc1}\\n train_acc = {train_acc1} \\n test_acc = {test_acc1}\\n tn, fp, fn, tp {tn, fp, fn, tp}' )"
   ]
  },
  {
   "cell_type": "code",
   "execution_count": 25,
   "metadata": {},
   "outputs": [
    {
     "name": "stdout",
     "output_type": "stream",
     "text": [
      " cross_val_acc = 0.7702\n",
      " train_acc = 0.7904 \n",
      " test_acc = 0.7858\n",
      " tn, fp, fn, tp (1113, 397, 250, 1260)\n"
     ]
    }
   ],
   "source": [
    "# Model work with balanced TfidfVecoterizing data\n",
    "model_rf2 = RandomForestClassifier(n_estimators=50, max_depth=2)\n",
    "model_rf2.fit(X_train_tfidf, y_train_tfidf)\n",
    "cross_val_acc2 = round(cross_val_score(model_rf2, X_train_tfidf, y_train_tfidf).mean(),4)\n",
    "train_acc2 = round(model_rf2.score(X_train_tfidf,y_train_tfidf),4)\n",
    "test_acc2 = round(model_rf2.score(X_test_tfidf,y_test_tfidf),4)\n",
    "preds2 = model_rf2.predict(X_test_tfidf)\n",
    "tn, fp, fn, tp = confusion_matrix(y_test_tfidf, preds2).ravel()\n",
    "print(f' cross_val_acc = {cross_val_acc2}\\n train_acc = {train_acc2} \\n test_acc = {test_acc2}\\n tn, fp, fn, tp {tn, fp, fn, tp}' )\n"
   ]
  },
  {
   "cell_type": "code",
   "execution_count": 27,
   "metadata": {},
   "outputs": [
    {
     "data": {
      "text/plain": [
       "[(0.1032, 'negative'),\n",
       " (0.0829, 'noted'),\n",
       " (0.0663, 'unit'),\n",
       " (0.0661, 'pulmonary'),\n",
       " (0.066, 'units'),\n",
       " (0.0645, 'iv'),\n",
       " (0.0608, 'given'),\n",
       " (0.0496, 'prior'),\n",
       " (0.0451, 'insulin'),\n",
       " (0.0405, 'continued')]"
      ]
     },
     "execution_count": 27,
     "metadata": {},
     "output_type": "execute_result"
    }
   ],
   "source": [
    "feature_importance_tup = sorted(zip(map(lambda x: round(x, 4), model_rf2.feature_importances_), names), reverse=True)\n",
    "feature_importance_tup[:10]"
   ]
  },
  {
   "cell_type": "markdown",
   "metadata": {},
   "source": [
    "## Machine Learning Classification Models: Multinomial Naive Bayes"
   ]
  },
  {
   "cell_type": "code",
   "execution_count": 30,
   "metadata": {},
   "outputs": [
    {
     "name": "stdout",
     "output_type": "stream",
     "text": [
      " cross_val_acc = 0.648\n",
      " train_acc = 0.6498 \n",
      " test_acc = 0.6192\n",
      " tn, fp, fn, tp (912, 598, 552, 958)\n"
     ]
    }
   ],
   "source": [
    "# Model work with balanced CountVecoterizing data\n",
    "model_nb1 = MultinomialNB()\n",
    "model_nb1.fit(X_train_cvec,y_train_cvec)\n",
    "cross_val_acc3 = round(cross_val_score(model_nb1, X_train_cvec, y_train_cvec).mean(),4)\n",
    "train_acc3 = round(model_nb1.score(X_train_cvec,y_train_cvec),4)\n",
    "test_acc3 = round(model_nb1.score(X_test_cvec,y_test_cvec),4)\n",
    "preds3 = model_nb1.predict(X_test_cvec)\n",
    "tn, fp, fn, tp = confusion_matrix(y_test_cvec, preds3).ravel()\n",
    "print(f' cross_val_acc = {cross_val_acc3}\\n train_acc = {train_acc3} \\n test_acc = {test_acc3}\\n tn, fp, fn, tp {tn, fp, fn, tp}' )"
   ]
  },
  {
   "cell_type": "code",
   "execution_count": 31,
   "metadata": {},
   "outputs": [
    {
     "name": "stdout",
     "output_type": "stream",
     "text": [
      " cross_val_acc = 0.614\n",
      " train_acc = 0.6149 \n",
      " test_acc = 0.5497\n",
      " tn, fp, fn, tp (848, 662, 698, 812)\n"
     ]
    }
   ],
   "source": [
    "# Model work with balanced TfidfVecoterizing data\n",
    "model_nb2 = MultinomialNB()\n",
    "model_nb2.fit(X_train_tfidf,y_train_tfidf)\n",
    "cross_val_acc4 = round(cross_val_score(model_nb2, X_train_tfidf, y_train_tfidf).mean(),4)\n",
    "train_acc4 = round(model_nb2.score(X_train_tfidf,y_train_tfidf),4)\n",
    "test_acc4 = round(model_nb2.score(X_test_tfidf,y_test_tfidf),4)\n",
    "preds4 = model_nb2.predict(X_test_tfidf)\n",
    "tn, fp, fn, tp = confusion_matrix(y_test_tfidf, preds4).ravel()\n",
    "print(f' cross_val_acc = {cross_val_acc4}\\n train_acc = {train_acc4} \\n test_acc = {test_acc4}\\n tn, fp, fn, tp {tn, fp, fn, tp}' )"
   ]
  },
  {
   "cell_type": "markdown",
   "metadata": {},
   "source": [
    "## Machine Learning Classification Models: XG Boost"
   ]
  },
  {
   "cell_type": "markdown",
   "metadata": {},
   "source": [
    "### CountVectorizer"
   ]
  },
  {
   "cell_type": "code",
   "execution_count": 50,
   "metadata": {},
   "outputs": [
    {
     "name": "stdout",
     "output_type": "stream",
     "text": [
      " cross_val_acc = 0.9578\n",
      " train_acc = 0.9581 \n",
      " test_acc = 0.9609\n",
      " tn, fp, fn, tp (1510, 0, 118, 1392)\n"
     ]
    }
   ],
   "source": [
    "# Model work with balanced CountVecoterizing data\n",
    "model_xg1 = XGBClassifier()\n",
    "model_xg1.fit(X_train_cvec, y_train_cvec)\n",
    "cross_val_acc5 = round(cross_val_score(model_xg1, X_train_cvec, y_train_cvec).mean(),4)\n",
    "train_acc5 = round(model_xg1.score(X_train_cvec,y_train_cvec),4)\n",
    "test_acc5 = round(model_xg1.score(X_test_cvec,y_test_cvec),4)\n",
    "preds5 = model_xg1.predict(X_test_cvec)\n",
    "tn, fp, fn, tp = confusion_matrix(y_test_cvec, preds5).ravel()\n",
    "print(f' cross_val_acc = {cross_val_acc5}\\n train_acc = {train_acc5} \\n test_acc = {test_acc5}\\n tn, fp, fn, tp {tn, fp, fn, tp}' )"
   ]
  },
  {
   "cell_type": "code",
   "execution_count": 35,
   "metadata": {},
   "outputs": [],
   "source": [
    "pred_proba_xg1 = [i[1] for i in model_xg1.predict_proba(X_test_cvec)]\n",
    "pred_xg1_df = pd.DataFrame({'true_values': y_test_cvec,\n",
    "                        'pred_probs':pred_proba_xg1})"
   ]
  },
  {
   "cell_type": "code",
   "execution_count": 39,
   "metadata": {},
   "outputs": [
    {
     "data": {
      "image/png": "[encoded data removed]",
      "text/plain": [
       "<Figure size 720x504 with 1 Axes>"
      ]
     },
     "metadata": {
      "needs_background": "light"
     },
     "output_type": "display_data"
    }
   ],
   "source": [
    "# Create figure.\n",
    "plt.figure(figsize = (10,7))\n",
    "\n",
    "# Create threshold values.\n",
    "thresholds = np.linspace(0, 1, 201)\n",
    "\n",
    "# Define function to calculate sensitivity. (True positive rate.)\n",
    "def TPR(df, true_col, pred_prob_col, threshold):\n",
    "    true_positive = df[(df[true_col] == 1) & (df[pred_prob_col] >= threshold)].shape[0]\n",
    "    false_negative = df[(df[true_col] == 1) & (df[pred_prob_col] < threshold)].shape[0]\n",
    "    return true_positive / (true_positive + false_negative)\n",
    "    \n",
    "\n",
    "# Define function to calculate 1 - specificity. (False positive rate.)\n",
    "def FPR(df, true_col, pred_prob_col, threshold):\n",
    "    true_negative = df[(df[true_col] == 0) & (df[pred_prob_col] <= threshold)].shape[0]\n",
    "    false_positive = df[(df[true_col] == 0) & (df[pred_prob_col] > threshold)].shape[0]\n",
    "    return 1 - (true_negative / (true_negative + false_positive))\n",
    "    \n",
    "# Calculate sensitivity & 1-specificity for each threshold between 0 and 1.\n",
    "tpr_values = [TPR(pred_xg1_df, 'true_values', 'pred_probs', prob) for prob in thresholds]\n",
    "fpr_values = [FPR(pred_xg1_df, 'true_values', 'pred_probs', prob) for prob in thresholds]\n",
    "\n",
    "# Plot ROC curve.\n",
    "plt.plot(fpr_values, # False Positive Rate on X-axis\n",
    "         tpr_values, # True Positive Rate on Y-axis\n",
    "         label='ROC Curve')\n",
    "\n",
    "# Plot baseline. (Perfect overlap between the two populations.)\n",
    "plt.plot(np.linspace(0, 1, 200),\n",
    "         np.linspace(0, 1, 200),\n",
    "         label='baseline',\n",
    "         linestyle='--')\n",
    "\n",
    "# Label axes.\n",
    "plt.title('Receiver Operating Characteristic Curve of XG Boost', fontsize=22)\n",
    "plt.ylabel('Sensitivity', fontsize=18)\n",
    "plt.xlabel('1 - Specificity', fontsize=18)\n",
    "\n",
    "# Create legend.\n",
    "plt.legend(fontsize=16);"
   ]
  },
  {
   "cell_type": "code",
   "execution_count": 34,
   "metadata": {},
   "outputs": [
    {
     "name": "stdout",
     "output_type": "stream",
     "text": [
      " cross_val_acc = 0.9299\n",
      " train_acc = 0.9454 \n",
      " test_acc = 0.9093\n",
      " tn, fp, fn, tp (1455, 55, 219, 1291)\n"
     ]
    }
   ],
   "source": [
    "# Model work with balanced TfidfVecoterizing data\n",
    "model_xg2 = XGBClassifier()\n",
    "model_xg2.fit(X_train_tfidf, y_train_tfidf)\n",
    "cross_val_acc6 = round(cross_val_score(model_xg2, X_train_tfidf, y_train_tfidf).mean(),4)\n",
    "train_acc6 = round(model_xg2.score(X_train_tfidf,y_train_tfidf),4)\n",
    "test_acc6 = round(model_xg2.score(X_test_tfidf,y_test_tfidf),4)\n",
    "preds6 = model_xg2.predict(X_test_tfidf)\n",
    "tn, fp, fn, tp = confusion_matrix(y_test_tfidf, preds6).ravel()\n",
    "print(f' cross_val_acc = {cross_val_acc6}\\n train_acc = {train_acc6} \\n test_acc = {test_acc6}\\n tn, fp, fn, tp {tn, fp, fn, tp}' )"
   ]
  },
  {
   "cell_type": "code",
   "execution_count": 36,
   "metadata": {},
   "outputs": [],
   "source": [
    "pred_proba_xg2 = [i[1] for i in model_xg2.predict_proba(X_test_tfidf)]\n",
    "pred_xg2_df = pd.DataFrame({'true_values': y_test_tfidf,\n",
    "                        'pred_probs':pred_proba_xg2})"
   ]
  },
  {
   "cell_type": "code",
   "execution_count": 40,
   "metadata": {},
   "outputs": [
    {
     "data": {
      "image/png": "[encoded data removed]",
      "text/plain": [
       "<Figure size 720x504 with 1 Axes>"
      ]
     },
     "metadata": {
      "needs_background": "light"
     },
     "output_type": "display_data"
    }
   ],
   "source": [
    "# Create figure.\n",
    "plt.figure(figsize = (10,7))\n",
    "\n",
    "# Create threshold values.\n",
    "thresholds = np.linspace(0, 1, 201)\n",
    "\n",
    "# Define function to calculate sensitivity. (True positive rate.)\n",
    "def TPR(df, true_col, pred_prob_col, threshold):\n",
    "    true_positive = df[(df[true_col] == 1) & (df[pred_prob_col] >= threshold)].shape[0]\n",
    "    false_negative = df[(df[true_col] == 1) & (df[pred_prob_col] < threshold)].shape[0]\n",
    "    return true_positive / (true_positive + false_negative)\n",
    "    \n",
    "\n",
    "# Define function to calculate 1 - specificity. (False positive rate.)\n",
    "def FPR(df, true_col, pred_prob_col, threshold):\n",
    "    true_negative = df[(df[true_col] == 0) & (df[pred_prob_col] <= threshold)].shape[0]\n",
    "    false_positive = df[(df[true_col] == 0) & (df[pred_prob_col] > threshold)].shape[0]\n",
    "    return 1 - (true_negative / (true_negative + false_positive))\n",
    "    \n",
    "# Calculate sensitivity & 1-specificity for each threshold between 0 and 1.\n",
    "tpr_values = [TPR(pred_xg2_df, 'true_values', 'pred_probs', prob) for prob in thresholds]\n",
    "fpr_values = [FPR(pred_xg2_df, 'true_values', 'pred_probs', prob) for prob in thresholds]\n",
    "\n",
    "# Plot ROC curve.\n",
    "plt.plot(fpr_values, # False Positive Rate on X-axis\n",
    "         tpr_values, # True Positive Rate on Y-axis\n",
    "         label='ROC Curve')\n",
    "\n",
    "# Plot baseline. (Perfect overlap between the two populations.)\n",
    "plt.plot(np.linspace(0, 1, 200),\n",
    "         np.linspace(0, 1, 200),\n",
    "         label='baseline',\n",
    "         linestyle='--')\n",
    "\n",
    "# Label axes.\n",
    "plt.title('Receiver Operating Characteristic Curve of XG Boost', fontsize=22)\n",
    "plt.ylabel('Sensitivity', fontsize=18)\n",
    "plt.xlabel('1 - Specificity', fontsize=18)\n",
    "\n",
    "# Create legend.\n",
    "plt.legend(fontsize=16);"
   ]
  },
  {
   "cell_type": "code",
   "execution_count": 64,
   "metadata": {},
   "outputs": [
    {
     "data": {
      "text/plain": [
       "[(0.062, 'hypertension'),\n",
       " (0.0534, 'cardiac'),\n",
       " (0.0496, 'noted'),\n",
       " (0.0455, 'heart'),\n",
       " (0.0424, 'weeks'),\n",
       " (0.0364, 'iv'),\n",
       " (0.0361, 'namepattern1'),\n",
       " (0.0347, 'inr'),\n",
       " (0.0322, 'location'),\n",
       " (0.0318, 'pressure'),\n",
       " (0.0296, 'aspirin'),\n",
       " (0.0295, 'insulin'),\n",
       " (0.0287, 'transferred'),\n",
       " (0.0279, 'acute'),\n",
       " (0.0264, 'surgery')]"
      ]
     },
     "execution_count": 64,
     "metadata": {},
     "output_type": "execute_result"
    }
   ],
   "source": [
    "feature_importance_xg = sorted(zip(map(lambda x: round(x, 4), model_xg1.feature_importances_), names), reverse=True)\n",
    "feature_importance_xg[:10]"
   ]
  },
  {
   "cell_type": "code",
   "execution_count": 41,
   "metadata": {},
   "outputs": [
    {
     "name": "stderr",
     "output_type": "stream",
     "text": [
      "Setting feature_perturbation = \"tree_path_dependent\" because no background data was given.\n"
     ]
    },
    {
     "data": {
      "image/png": "[encoded data removed]",
      "text/plain": [
       "<Figure size 576x684 with 1 Axes>"
      ]
     },
     "metadata": {
      "needs_background": "light"
     },
     "output_type": "display_data"
    }
   ],
   "source": [
    "import shap\n",
    "shap_values = shap.TreeExplainer(model_xg1).shap_values(X_train_cvec)\n",
    "shap.summary_plot(shap_values, X_train_cvec, plot_type=\"bar\", feature_names=cvec.get_feature_names())"
   ]
  },
  {
   "cell_type": "code",
   "execution_count": 42,
   "metadata": {},
   "outputs": [
    {
     "data": {
      "image/png": "[encoded data removed]",
      "text/plain": [
       "<Figure size 576x684 with 2 Axes>"
      ]
     },
     "metadata": {
      "needs_background": "light"
     },
     "output_type": "display_data"
    }
   ],
   "source": [
    "shap.summary_plot(shap_values, X_train_cvec,feature_names=cvec.get_feature_names())"
   ]
  },
  {
   "cell_type": "markdown",
   "metadata": {},
   "source": [
    "## Machine Learning Classification Models: SVM"
   ]
  },
  {
   "cell_type": "code",
   "execution_count": 52,
   "metadata": {},
   "outputs": [
    {
     "name": "stdout",
     "output_type": "stream",
     "text": [
      " cross_val_acc = 0.6385\n",
      " train_acc = 0.6575 \n",
      " test_acc = 0.6354\n",
      " tn, fp, fn, tp (922, 588, 513, 997)\n"
     ]
    }
   ],
   "source": [
    "# Model work with balanced CountVecoterizing data\n",
    "model_svc1 = SVC(C=0.01)\n",
    "model_svc1.fit(X_train_cvec, y_train_cvec)\n",
    "cross_val_acc7 = round(cross_val_score(model_svc1, X_train_cvec, y_train_cvec).mean(),4)\n",
    "train_acc7 = round(model_svc1.score(X_train_cvec,y_train_cvec),4)\n",
    "test_acc7 = round(model_svc1.score(X_test_cvec,y_test_cvec),4)\n",
    "preds7 = model_svc1.predict(X_test_cvec)\n",
    "tn, fp, fn, tp = confusion_matrix(y_test_cvec, preds7).ravel()\n",
    "print(f' cross_val_acc = {cross_val_acc7}\\n train_acc = {train_acc7} \\n test_acc = {test_acc7}\\n tn, fp, fn, tp {tn, fp, fn, tp}' )"
   ]
  },
  {
   "cell_type": "code",
   "execution_count": 53,
   "metadata": {},
   "outputs": [
    {
     "name": "stdout",
     "output_type": "stream",
     "text": [
      " cross_val_acc = 0.6341\n",
      " train_acc = 0.6625 \n",
      " test_acc = 0.6437\n",
      " tn, fp, fn, tp (1012, 498, 578, 932)\n"
     ]
    }
   ],
   "source": [
    "# Model work with balanced TfidfVecoterizing data\n",
    "model_svc2 = SVC(C=0.01)\n",
    "model_svc2.fit(X_train_tfidf, y_train_tfidf)\n",
    "cross_val_acc8 = round(cross_val_score(model_svc2, X_train_tfidf, y_train_tfidf).mean(),4)\n",
    "train_acc8 = round(model_svc2.score(X_train_tfidf,y_train_tfidf),4)\n",
    "test_acc8 = round(model_svc2.score(X_test_tfidf,y_test_tfidf),4)\n",
    "preds8 = model_svc2.predict(X_test_tfidf)\n",
    "tn, fp, fn, tp = confusion_matrix(y_test_tfidf, preds8).ravel()\n",
    "print(f' cross_val_acc = {cross_val_acc8}\\n train_acc = {train_acc8} \\n test_acc = {test_acc8}\\n tn, fp, fn, tp {tn, fp, fn, tp}' )"
   ]
  },
  {
   "cell_type": "markdown",
   "metadata": {},
   "source": [
    "## Machine Learning Classification Models: FFNN(feed forward neutral network)"
   ]
  },
  {
   "cell_type": "code",
   "execution_count": 45,
   "metadata": {},
   "outputs": [
    {
     "data": {
      "text/plain": [
       "100"
      ]
     },
     "execution_count": 45,
     "metadata": {},
     "output_type": "execute_result"
    }
   ],
   "source": [
    "n_input = X_train_cvec.shape[1]\n",
    "n_input"
   ]
  },
  {
   "cell_type": "code",
   "execution_count": 59,
   "metadata": {},
   "outputs": [
    {
     "name": "stdout",
     "output_type": "stream",
     "text": [
      "Train on 8996 samples, validate on 3020 samples\n",
      "Epoch 1/10\n",
      " - 1s - loss: 7.1292 - acc: 0.6715 - val_loss: 1.0011 - val_acc: 0.6781\n",
      "Epoch 2/10\n",
      " - 1s - loss: 0.7681 - acc: 0.7091 - val_loss: 0.7574 - val_acc: 0.6142\n",
      "Epoch 3/10\n",
      " - 1s - loss: 0.6577 - acc: 0.7064 - val_loss: 0.8297 - val_acc: 0.5752\n",
      "Epoch 4/10\n",
      " - 1s - loss: 0.6482 - acc: 0.6985 - val_loss: 0.6699 - val_acc: 0.6732\n",
      "Epoch 5/10\n",
      " - 1s - loss: 0.6134 - acc: 0.7214 - val_loss: 0.6586 - val_acc: 0.6712\n",
      "Epoch 6/10\n",
      " - 1s - loss: 0.6254 - acc: 0.7119 - val_loss: 0.7570 - val_acc: 0.6298\n",
      "Epoch 7/10\n",
      " - 1s - loss: 0.6108 - acc: 0.7214 - val_loss: 0.7526 - val_acc: 0.6242\n",
      "Epoch 8/10\n",
      " - 1s - loss: 0.6079 - acc: 0.7144 - val_loss: 0.6457 - val_acc: 0.6964\n",
      "Epoch 9/10\n",
      " - 1s - loss: 0.6005 - acc: 0.7257 - val_loss: 0.6771 - val_acc: 0.6719\n",
      "Epoch 10/10\n",
      " - 1s - loss: 0.5891 - acc: 0.7369 - val_loss: 0.6903 - val_acc: 0.6520\n"
     ]
    }
   ],
   "source": [
    "model_ffnn = Sequential()\n",
    "\n",
    "lam=0.3\n",
    "model_ffnn.add(Dense(n_input,\n",
    "                   input_dim = n_input,\n",
    "                   activation = 'relu',\n",
    "                   kernel_regularizer = regularizers.l2(lam)\n",
    "                       ))\n",
    "model_dropout = Sequential()\n",
    "model_dropout.add(Dropout(0.5))\n",
    "model_ffnn.add(Dense(1,\n",
    "                   activation='sigmoid'))\n",
    "\n",
    "model_ffnn.compile(loss='binary_crossentropy',\n",
    "                 optimizer='adam',\n",
    "                 metrics=['acc'])\n",
    "early_stop = EarlyStopping(monitor = 'val_loss', \n",
    "                           min_delta=0, \n",
    "                           patience=5,\n",
    "                           mode='auto')\n",
    "history_all = model_ffnn.fit(X_train_cvec,\n",
    "                          y_train_cvec,\n",
    "                          validation_data=(X_test_cvec,y_test_cvec),\n",
    "                          epochs=10,\n",
    "                          batch_size=None,\n",
    "                          verbose=2,\n",
    "                          callbacks=[early_stop]\n",
    "                          )"
   ]
  },
  {
   "cell_type": "code",
   "execution_count": 98,
   "metadata": {},
   "outputs": [
    {
     "data": {
      "image/png": "[encoded data removed]",
      "text/plain": [
       "<Figure size 864x576 with 1 Axes>"
      ]
     },
     "metadata": {
      "needs_background": "light"
     },
     "output_type": "display_data"
    }
   ],
   "source": [
    "train_loss_all = history_all.history['loss']\n",
    "test_loss_all = history_all.history['val_loss']\n",
    "plt.figure(figsize=(12, 8))\n",
    "plt.plot(train_loss_all, label='Training loss', color='navy')\n",
    "plt.plot(test_loss_all, label='Testing loss', color='skyblue')\n",
    "plt.legend();"
   ]
  },
  {
   "cell_type": "code",
   "execution_count": 57,
   "metadata": {},
   "outputs": [
    {
     "data": {
      "text/plain": [
       "(0.732659, 0.6854304671287537)"
      ]
     },
     "execution_count": 57,
     "metadata": {},
     "output_type": "execute_result"
    }
   ],
   "source": [
    "# for CountVectorizing\n",
    "history_all.history['acc'][-1], history_all.history['val_acc'][-1]"
   ]
  },
  {
   "cell_type": "code",
   "execution_count": 48,
   "metadata": {},
   "outputs": [
    {
     "name": "stdout",
     "output_type": "stream",
     "text": [
      "Train on 8996 samples, validate on 3020 samples\n",
      "Epoch 1/10\n",
      " - 1s - loss: 2.2882 - acc: 0.5654 - val_loss: 0.7003 - val_acc: 0.5841\n",
      "Epoch 2/10\n",
      " - 1s - loss: 0.6927 - acc: 0.5568 - val_loss: 0.6917 - val_acc: 0.5844\n",
      "Epoch 3/10\n",
      " - 1s - loss: 0.6911 - acc: 0.5529 - val_loss: 0.6920 - val_acc: 0.5341\n",
      "Epoch 4/10\n",
      " - 1s - loss: 0.6918 - acc: 0.5561 - val_loss: 0.6904 - val_acc: 0.5974\n",
      "Epoch 5/10\n",
      " - 1s - loss: 0.6898 - acc: 0.5743 - val_loss: 0.6920 - val_acc: 0.5298\n",
      "Epoch 6/10\n",
      " - 1s - loss: 0.6886 - acc: 0.5713 - val_loss: 0.6890 - val_acc: 0.5954\n",
      "Epoch 7/10\n",
      " - 1s - loss: 0.6877 - acc: 0.5845 - val_loss: 0.6999 - val_acc: 0.5139\n",
      "Epoch 8/10\n",
      " - 1s - loss: 0.6872 - acc: 0.5783 - val_loss: 0.6864 - val_acc: 0.6063\n",
      "Epoch 9/10\n",
      " - 1s - loss: 0.6849 - acc: 0.5926 - val_loss: 0.6849 - val_acc: 0.5662\n",
      "Epoch 10/10\n",
      " - 1s - loss: 0.6847 - acc: 0.5827 - val_loss: 0.6871 - val_acc: 0.5728\n"
     ]
    }
   ],
   "source": [
    "model_ffnn = Sequential()\n",
    "\n",
    "lam=0.09\n",
    "model_ffnn.add(Dense(n_input,\n",
    "                   input_dim = n_input,\n",
    "                   activation = 'relu',\n",
    "                   kernel_regularizer = regularizers.l2(lam)\n",
    "                       ))\n",
    "model_dropout = Sequential()\n",
    "model_dropout.add(Dropout(0.5))\n",
    "model_ffnn.add(Dense(1,\n",
    "                   activation='sigmoid'))\n",
    "\n",
    "model_ffnn.compile(loss='binary_crossentropy',\n",
    "                 optimizer='adam',\n",
    "                 metrics=['acc'])\n",
    "early_stop = EarlyStopping(monitor = 'val_loss', \n",
    "                           min_delta=0, \n",
    "                           patience=5,\n",
    "                           mode='auto')\n",
    "history_all = model_ffnn.fit(X_train_tfidf,\n",
    "                          y_train_tfidf,\n",
    "                          validation_data=(X_test_tfidf,y_test_tfidf),\n",
    "                          epochs=10,\n",
    "                          batch_size=None,\n",
    "                          verbose=2,\n",
    "                          callbacks=[early_stop]\n",
    "                          )"
   ]
  },
  {
   "cell_type": "code",
   "execution_count": 49,
   "metadata": {},
   "outputs": [
    {
     "data": {
      "text/plain": [
       "(0.5827034, 0.5728476643562317)"
      ]
     },
     "execution_count": 49,
     "metadata": {},
     "output_type": "execute_result"
    }
   ],
   "source": [
    "# for TfidfVectorizing\n",
    "history_all.history['acc'][-1], history_all.history['val_acc'][-1]"
   ]
  },
  {
   "cell_type": "code",
   "execution_count": null,
   "metadata": {},
   "outputs": [],
   "source": []
  }
 ],
 "metadata": {
  "kernelspec": {
   "display_name": "Python 3",
   "language": "python",
   "name": "python3"
  },
  "language_info": {
   "codemirror_mode": {
    "name": "ipython",
    "version": 3
   },
   "file_extension": ".py",
   "mimetype": "text/x-python",
   "name": "python",
   "nbconvert_exporter": "python",
   "pygments_lexer": "ipython3",
   "version": "3.7.4"
  }
 },
 "nbformat": 4,
 "nbformat_minor": 2
}
