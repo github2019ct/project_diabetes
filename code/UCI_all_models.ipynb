{
 "cells": [
  {
   "cell_type": "code",
   "execution_count": 1,
   "metadata": {},
   "outputs": [
    {
     "name": "stderr",
     "output_type": "stream",
     "text": [
      "Using TensorFlow backend.\n"
     ]
    }
   ],
   "source": [
    "import matplotlib.pyplot as plt\n",
    "import pandas as pd\n",
    "\n",
    "from sklearn.model_selection import train_test_split, cross_val_score, GridSearchCV\n",
    "from sklearn.feature_extraction.text import CountVectorizer, TfidfVectorizer\n",
    "from sklearn.preprocessing import StandardScaler\n",
    "from sklearn.metrics import confusion_matrix, accuracy_score\n",
    "\n",
    "from sklearn.linear_model import LogisticRegression\n",
    "from sklearn.ensemble import RandomForestClassifier\n",
    "from xgboost import XGBClassifier\n",
    "from sklearn.svm import SVC\n",
    "from keras.models import Sequential\n",
    "from keras.layers import Dense\n",
    "from keras import regularizers\n",
    "from keras.layers import Dropout\n",
    "from keras.callbacks import EarlyStopping\n",
    "\n",
    "from imblearn.over_sampling import SMOTE\n",
    "\n",
    "%matplotlib inline"
   ]
  },
  {
   "cell_type": "markdown",
   "metadata": {},
   "source": [
    "## Load the MIMIC data"
   ]
  },
  {
   "cell_type": "code",
   "execution_count": 2,
   "metadata": {},
   "outputs": [
    {
     "data": {
      "text/html": [
       "<div>\n",
       "<style scoped>\n",
       "    .dataframe tbody tr th:only-of-type {\n",
       "        vertical-align: middle;\n",
       "    }\n",
       "\n",
       "    .dataframe tbody tr th {\n",
       "        vertical-align: top;\n",
       "    }\n",
       "\n",
       "    .dataframe thead th {\n",
       "        text-align: right;\n",
       "    }\n",
       "</style>\n",
       "<table border=\"1\" class=\"dataframe\">\n",
       "  <thead>\n",
       "    <tr style=\"text-align: right;\">\n",
       "      <th></th>\n",
       "      <th>encounter_id</th>\n",
       "      <th>patient_nbr</th>\n",
       "      <th>race</th>\n",
       "      <th>gender</th>\n",
       "      <th>age</th>\n",
       "      <th>admission_type_id</th>\n",
       "      <th>discharge_disposition_id</th>\n",
       "      <th>admission_source_id</th>\n",
       "      <th>time_in_hospital</th>\n",
       "      <th>num_lab_procedures</th>\n",
       "      <th>...</th>\n",
       "      <th>insulin</th>\n",
       "      <th>glyburide-metformin</th>\n",
       "      <th>change</th>\n",
       "      <th>diabetesMed</th>\n",
       "      <th>readmitted</th>\n",
       "      <th>tolbutamide</th>\n",
       "      <th>tolazamide</th>\n",
       "      <th>number_features_medications</th>\n",
       "      <th>diabetesMed_change</th>\n",
       "      <th>label</th>\n",
       "    </tr>\n",
       "  </thead>\n",
       "  <tbody>\n",
       "    <tr>\n",
       "      <td>0</td>\n",
       "      <td>2278392</td>\n",
       "      <td>8222157</td>\n",
       "      <td>Caucasian</td>\n",
       "      <td>0</td>\n",
       "      <td>5</td>\n",
       "      <td>Unknown</td>\n",
       "      <td>unknown</td>\n",
       "      <td>referral</td>\n",
       "      <td>0.693147</td>\n",
       "      <td>41</td>\n",
       "      <td>...</td>\n",
       "      <td>No</td>\n",
       "      <td>No</td>\n",
       "      <td>No</td>\n",
       "      <td>No</td>\n",
       "      <td>NO</td>\n",
       "      <td>No</td>\n",
       "      <td>No</td>\n",
       "      <td>0</td>\n",
       "      <td>NoNo</td>\n",
       "      <td>0</td>\n",
       "    </tr>\n",
       "    <tr>\n",
       "      <td>1</td>\n",
       "      <td>28236</td>\n",
       "      <td>89869032</td>\n",
       "      <td>AfricanAmerican</td>\n",
       "      <td>0</td>\n",
       "      <td>45</td>\n",
       "      <td>Emergency</td>\n",
       "      <td>home</td>\n",
       "      <td>emergency_room</td>\n",
       "      <td>2.302585</td>\n",
       "      <td>47</td>\n",
       "      <td>...</td>\n",
       "      <td>Steady</td>\n",
       "      <td>No</td>\n",
       "      <td>No</td>\n",
       "      <td>Yes</td>\n",
       "      <td>&gt;30</td>\n",
       "      <td>No</td>\n",
       "      <td>No</td>\n",
       "      <td>1</td>\n",
       "      <td>YesNo</td>\n",
       "      <td>0</td>\n",
       "    </tr>\n",
       "    <tr>\n",
       "      <td>2</td>\n",
       "      <td>590346</td>\n",
       "      <td>37746639</td>\n",
       "      <td>AfricanAmerican</td>\n",
       "      <td>0</td>\n",
       "      <td>45</td>\n",
       "      <td>Emergency</td>\n",
       "      <td>home_care</td>\n",
       "      <td>emergency_room</td>\n",
       "      <td>2.197225</td>\n",
       "      <td>55</td>\n",
       "      <td>...</td>\n",
       "      <td>Steady</td>\n",
       "      <td>No</td>\n",
       "      <td>No</td>\n",
       "      <td>Yes</td>\n",
       "      <td>&gt;30</td>\n",
       "      <td>No</td>\n",
       "      <td>No</td>\n",
       "      <td>1</td>\n",
       "      <td>YesNo</td>\n",
       "      <td>0</td>\n",
       "    </tr>\n",
       "    <tr>\n",
       "      <td>3</td>\n",
       "      <td>630342</td>\n",
       "      <td>93232917</td>\n",
       "      <td>AfricanAmerican</td>\n",
       "      <td>0</td>\n",
       "      <td>55</td>\n",
       "      <td>Elective</td>\n",
       "      <td>home_care</td>\n",
       "      <td>referral</td>\n",
       "      <td>2.302585</td>\n",
       "      <td>37</td>\n",
       "      <td>...</td>\n",
       "      <td>Steady</td>\n",
       "      <td>No</td>\n",
       "      <td>No</td>\n",
       "      <td>Yes</td>\n",
       "      <td>&gt;30</td>\n",
       "      <td>No</td>\n",
       "      <td>No</td>\n",
       "      <td>1</td>\n",
       "      <td>YesNo</td>\n",
       "      <td>0</td>\n",
       "    </tr>\n",
       "    <tr>\n",
       "      <td>4</td>\n",
       "      <td>676422</td>\n",
       "      <td>63754317</td>\n",
       "      <td>AfricanAmerican</td>\n",
       "      <td>0</td>\n",
       "      <td>75</td>\n",
       "      <td>Emergency</td>\n",
       "      <td>home</td>\n",
       "      <td>emergency_room</td>\n",
       "      <td>1.609438</td>\n",
       "      <td>48</td>\n",
       "      <td>...</td>\n",
       "      <td>Steady</td>\n",
       "      <td>No</td>\n",
       "      <td>No</td>\n",
       "      <td>Yes</td>\n",
       "      <td>&gt;30</td>\n",
       "      <td>No</td>\n",
       "      <td>No</td>\n",
       "      <td>1</td>\n",
       "      <td>YesNo</td>\n",
       "      <td>0</td>\n",
       "    </tr>\n",
       "  </tbody>\n",
       "</table>\n",
       "<p>5 rows × 37 columns</p>\n",
       "</div>"
      ],
      "text/plain": [
       "   encounter_id  patient_nbr             race  gender  age admission_type_id  \\\n",
       "0       2278392      8222157        Caucasian       0    5           Unknown   \n",
       "1         28236     89869032  AfricanAmerican       0   45         Emergency   \n",
       "2        590346     37746639  AfricanAmerican       0   45         Emergency   \n",
       "3        630342     93232917  AfricanAmerican       0   55          Elective   \n",
       "4        676422     63754317  AfricanAmerican       0   75         Emergency   \n",
       "\n",
       "  discharge_disposition_id admission_source_id  time_in_hospital  \\\n",
       "0                  unknown            referral          0.693147   \n",
       "1                     home      emergency_room          2.302585   \n",
       "2                home_care      emergency_room          2.197225   \n",
       "3                home_care            referral          2.302585   \n",
       "4                     home      emergency_room          1.609438   \n",
       "\n",
       "   num_lab_procedures  ...  insulin  glyburide-metformin  change  diabetesMed  \\\n",
       "0                  41  ...       No                   No      No           No   \n",
       "1                  47  ...   Steady                   No      No          Yes   \n",
       "2                  55  ...   Steady                   No      No          Yes   \n",
       "3                  37  ...   Steady                   No      No          Yes   \n",
       "4                  48  ...   Steady                   No      No          Yes   \n",
       "\n",
       "   readmitted  tolbutamide  tolazamide  number_features_medications  \\\n",
       "0          NO           No          No                            0   \n",
       "1         >30           No          No                            1   \n",
       "2         >30           No          No                            1   \n",
       "3         >30           No          No                            1   \n",
       "4         >30           No          No                            1   \n",
       "\n",
       "  diabetesMed_change label  \n",
       "0               NoNo     0  \n",
       "1              YesNo     0  \n",
       "2              YesNo     0  \n",
       "3              YesNo     0  \n",
       "4              YesNo     0  \n",
       "\n",
       "[5 rows x 37 columns]"
      ]
     },
     "execution_count": 2,
     "metadata": {},
     "output_type": "execute_result"
    }
   ],
   "source": [
    "df = pd.read_csv('../data/UCI_train_test.csv')\n",
    "df.drop(columns='Unnamed: 0',inplace=True)\n",
    "df.head()"
   ]
  },
  {
   "cell_type": "code",
   "execution_count": 3,
   "metadata": {},
   "outputs": [
    {
     "data": {
      "text/plain": [
       "(5547, 37)"
      ]
     },
     "execution_count": 3,
     "metadata": {},
     "output_type": "execute_result"
    }
   ],
   "source": [
    "df.shape"
   ]
  },
  {
   "cell_type": "code",
   "execution_count": 4,
   "metadata": {},
   "outputs": [
    {
     "data": {
      "text/plain": [
       "Index(['encounter_id', 'patient_nbr', 'race', 'gender', 'age',\n",
       "       'admission_type_id', 'discharge_disposition_id', 'admission_source_id',\n",
       "       'time_in_hospital', 'num_lab_procedures', 'num_procedures',\n",
       "       'num_medications', 'number_outpatient', 'number_emergency',\n",
       "       'number_inpatient', 'number_diagnoses', 'max_glu_serum', 'A1Cresult',\n",
       "       'metformin', 'repaglinide', 'nateglinide', 'glimepiride', 'glipizide',\n",
       "       'glyburide', 'pioglitazone', 'rosiglitazone', 'acarbose', 'insulin',\n",
       "       'glyburide-metformin', 'change', 'diabetesMed', 'readmitted',\n",
       "       'tolbutamide', 'tolazamide', 'number_features_medications',\n",
       "       'diabetesMed_change', 'label'],\n",
       "      dtype='object')"
      ]
     },
     "execution_count": 4,
     "metadata": {},
     "output_type": "execute_result"
    }
   ],
   "source": [
    "df.columns"
   ]
  },
  {
   "cell_type": "code",
   "execution_count": 5,
   "metadata": {},
   "outputs": [],
   "source": [
    "categorical_columns =['race', 'gender', 'admission_type_id', 'discharge_disposition_id', 'admission_source_id',\n",
    "                      'change', 'diabetesMed','diabetesMed_change']\n",
    "features_medications = ['max_glu_serum', 'A1Cresult',\n",
    "       'metformin', 'repaglinide', 'nateglinide', 'glimepiride', 'glipizide',\n",
    "       'glyburide', 'pioglitazone', 'rosiglitazone', 'acarbose', 'insulin',\n",
    "       'glyburide-metformin', 'tolbutamide', 'tolazamide',]\n",
    "numerical_columns = ['age', 'time_in_hospital', 'num_lab_procedures', 'num_procedures','num_medications',\n",
    "                     'number_outpatient', 'number_emergency','number_inpatient', 'number_diagnoses',\n",
    "                    'number_features_medications',]\n"
   ]
  },
  {
   "cell_type": "code",
   "execution_count": 10,
   "metadata": {},
   "outputs": [],
   "source": [
    "X = df[numerical_columns+categorical_columns]"
   ]
  },
  {
   "cell_type": "code",
   "execution_count": 14,
   "metadata": {},
   "outputs": [
    {
     "data": {
      "text/plain": [
       "(5547, 36)"
      ]
     },
     "execution_count": 14,
     "metadata": {},
     "output_type": "execute_result"
    }
   ],
   "source": [
    "X.shape"
   ]
  },
  {
   "cell_type": "code",
   "execution_count": 15,
   "metadata": {},
   "outputs": [
    {
     "data": {
      "text/html": [
       "<div>\n",
       "<style scoped>\n",
       "    .dataframe tbody tr th:only-of-type {\n",
       "        vertical-align: middle;\n",
       "    }\n",
       "\n",
       "    .dataframe tbody tr th {\n",
       "        vertical-align: top;\n",
       "    }\n",
       "\n",
       "    .dataframe thead th {\n",
       "        text-align: right;\n",
       "    }\n",
       "</style>\n",
       "<table border=\"1\" class=\"dataframe\">\n",
       "  <thead>\n",
       "    <tr style=\"text-align: right;\">\n",
       "      <th></th>\n",
       "      <th>age</th>\n",
       "      <th>time_in_hospital</th>\n",
       "      <th>num_lab_procedures</th>\n",
       "      <th>num_procedures</th>\n",
       "      <th>num_medications</th>\n",
       "      <th>number_outpatient</th>\n",
       "      <th>number_emergency</th>\n",
       "      <th>number_inpatient</th>\n",
       "      <th>number_diagnoses</th>\n",
       "      <th>number_features_medications</th>\n",
       "      <th>...</th>\n",
       "      <th>admission_source_id_referral</th>\n",
       "      <th>admission_source_id_transfered</th>\n",
       "      <th>admission_source_id_unknown</th>\n",
       "      <th>change_Ch</th>\n",
       "      <th>change_No</th>\n",
       "      <th>diabetesMed_No</th>\n",
       "      <th>diabetesMed_Yes</th>\n",
       "      <th>diabetesMed_change_NoNo</th>\n",
       "      <th>diabetesMed_change_YesCh</th>\n",
       "      <th>diabetesMed_change_YesNo</th>\n",
       "    </tr>\n",
       "  </thead>\n",
       "  <tbody>\n",
       "    <tr>\n",
       "      <td>0</td>\n",
       "      <td>5</td>\n",
       "      <td>0.693147</td>\n",
       "      <td>41</td>\n",
       "      <td>0</td>\n",
       "      <td>0.693147</td>\n",
       "      <td>0</td>\n",
       "      <td>0</td>\n",
       "      <td>0</td>\n",
       "      <td>1</td>\n",
       "      <td>0</td>\n",
       "      <td>...</td>\n",
       "      <td>1</td>\n",
       "      <td>0</td>\n",
       "      <td>0</td>\n",
       "      <td>0</td>\n",
       "      <td>1</td>\n",
       "      <td>1</td>\n",
       "      <td>0</td>\n",
       "      <td>1</td>\n",
       "      <td>0</td>\n",
       "      <td>0</td>\n",
       "    </tr>\n",
       "    <tr>\n",
       "      <td>1</td>\n",
       "      <td>45</td>\n",
       "      <td>2.302585</td>\n",
       "      <td>47</td>\n",
       "      <td>2</td>\n",
       "      <td>2.890372</td>\n",
       "      <td>0</td>\n",
       "      <td>0</td>\n",
       "      <td>0</td>\n",
       "      <td>9</td>\n",
       "      <td>1</td>\n",
       "      <td>...</td>\n",
       "      <td>0</td>\n",
       "      <td>0</td>\n",
       "      <td>0</td>\n",
       "      <td>0</td>\n",
       "      <td>1</td>\n",
       "      <td>0</td>\n",
       "      <td>1</td>\n",
       "      <td>0</td>\n",
       "      <td>0</td>\n",
       "      <td>1</td>\n",
       "    </tr>\n",
       "    <tr>\n",
       "      <td>2</td>\n",
       "      <td>45</td>\n",
       "      <td>2.197225</td>\n",
       "      <td>55</td>\n",
       "      <td>2</td>\n",
       "      <td>2.890372</td>\n",
       "      <td>0</td>\n",
       "      <td>0</td>\n",
       "      <td>0</td>\n",
       "      <td>9</td>\n",
       "      <td>1</td>\n",
       "      <td>...</td>\n",
       "      <td>0</td>\n",
       "      <td>0</td>\n",
       "      <td>0</td>\n",
       "      <td>0</td>\n",
       "      <td>1</td>\n",
       "      <td>0</td>\n",
       "      <td>1</td>\n",
       "      <td>0</td>\n",
       "      <td>0</td>\n",
       "      <td>1</td>\n",
       "    </tr>\n",
       "    <tr>\n",
       "      <td>3</td>\n",
       "      <td>55</td>\n",
       "      <td>2.302585</td>\n",
       "      <td>37</td>\n",
       "      <td>2</td>\n",
       "      <td>2.995732</td>\n",
       "      <td>0</td>\n",
       "      <td>0</td>\n",
       "      <td>1</td>\n",
       "      <td>4</td>\n",
       "      <td>1</td>\n",
       "      <td>...</td>\n",
       "      <td>1</td>\n",
       "      <td>0</td>\n",
       "      <td>0</td>\n",
       "      <td>0</td>\n",
       "      <td>1</td>\n",
       "      <td>0</td>\n",
       "      <td>1</td>\n",
       "      <td>0</td>\n",
       "      <td>0</td>\n",
       "      <td>1</td>\n",
       "    </tr>\n",
       "    <tr>\n",
       "      <td>4</td>\n",
       "      <td>75</td>\n",
       "      <td>1.609438</td>\n",
       "      <td>48</td>\n",
       "      <td>2</td>\n",
       "      <td>2.772589</td>\n",
       "      <td>0</td>\n",
       "      <td>1</td>\n",
       "      <td>0</td>\n",
       "      <td>9</td>\n",
       "      <td>1</td>\n",
       "      <td>...</td>\n",
       "      <td>0</td>\n",
       "      <td>0</td>\n",
       "      <td>0</td>\n",
       "      <td>0</td>\n",
       "      <td>1</td>\n",
       "      <td>0</td>\n",
       "      <td>1</td>\n",
       "      <td>0</td>\n",
       "      <td>0</td>\n",
       "      <td>1</td>\n",
       "    </tr>\n",
       "  </tbody>\n",
       "</table>\n",
       "<p>5 rows × 36 columns</p>\n",
       "</div>"
      ],
      "text/plain": [
       "   age  time_in_hospital  num_lab_procedures  num_procedures  num_medications  \\\n",
       "0    5          0.693147                  41               0         0.693147   \n",
       "1   45          2.302585                  47               2         2.890372   \n",
       "2   45          2.197225                  55               2         2.890372   \n",
       "3   55          2.302585                  37               2         2.995732   \n",
       "4   75          1.609438                  48               2         2.772589   \n",
       "\n",
       "   number_outpatient  number_emergency  number_inpatient  number_diagnoses  \\\n",
       "0                  0                 0                 0                 1   \n",
       "1                  0                 0                 0                 9   \n",
       "2                  0                 0                 0                 9   \n",
       "3                  0                 0                 1                 4   \n",
       "4                  0                 1                 0                 9   \n",
       "\n",
       "   number_features_medications  ...  admission_source_id_referral  \\\n",
       "0                            0  ...                             1   \n",
       "1                            1  ...                             0   \n",
       "2                            1  ...                             0   \n",
       "3                            1  ...                             1   \n",
       "4                            1  ...                             0   \n",
       "\n",
       "   admission_source_id_transfered  admission_source_id_unknown  change_Ch  \\\n",
       "0                               0                            0          0   \n",
       "1                               0                            0          0   \n",
       "2                               0                            0          0   \n",
       "3                               0                            0          0   \n",
       "4                               0                            0          0   \n",
       "\n",
       "   change_No  diabetesMed_No  diabetesMed_Yes  diabetesMed_change_NoNo  \\\n",
       "0          1               1                0                        1   \n",
       "1          1               0                1                        0   \n",
       "2          1               0                1                        0   \n",
       "3          1               0                1                        0   \n",
       "4          1               0                1                        0   \n",
       "\n",
       "   diabetesMed_change_YesCh  diabetesMed_change_YesNo  \n",
       "0                         0                         0  \n",
       "1                         0                         1  \n",
       "2                         0                         1  \n",
       "3                         0                         1  \n",
       "4                         0                         1  \n",
       "\n",
       "[5 rows x 36 columns]"
      ]
     },
     "execution_count": 15,
     "metadata": {},
     "output_type": "execute_result"
    }
   ],
   "source": [
    "X.head()"
   ]
  },
  {
   "cell_type": "code",
   "execution_count": 13,
   "metadata": {},
   "outputs": [],
   "source": [
    "X= pd.get_dummies(X, columns = ['race', 'admission_type_id', 'discharge_disposition_id', 'admission_source_id',\n",
    "                      'change', 'diabetesMed','diabetesMed_change'])"
   ]
  },
  {
   "cell_type": "code",
   "execution_count": 21,
   "metadata": {},
   "outputs": [],
   "source": [
    "X_columns = list(X.columns)\n"
   ]
  },
  {
   "cell_type": "code",
   "execution_count": 22,
   "metadata": {},
   "outputs": [
    {
     "data": {
      "text/plain": [
       "(5547,)"
      ]
     },
     "execution_count": 22,
     "metadata": {},
     "output_type": "execute_result"
    }
   ],
   "source": [
    "y = df['label']\n",
    "y.shape"
   ]
  },
  {
   "cell_type": "markdown",
   "metadata": {},
   "source": [
    "## Prepare Balanced Data for Machine Learning"
   ]
  },
  {
   "cell_type": "code",
   "execution_count": 23,
   "metadata": {},
   "outputs": [
    {
     "name": "stdout",
     "output_type": "stream",
     "text": [
      "The base line is\n",
      "0    0.907518\n",
      "1    0.092482\n",
      "Name: label, dtype: float64\n"
     ]
    }
   ],
   "source": [
    "# The base line for this dataset\n",
    "base = df['label'].value_counts(normalize=True)\n",
    "print(f'The base line is\\n{base}')"
   ]
  },
  {
   "cell_type": "code",
   "execution_count": 24,
   "metadata": {},
   "outputs": [],
   "source": [
    "# Split the train and test data\n",
    "\n",
    "X_train, X_test, y_train, y_test = train_test_split(X,\n",
    "                                                    y,\n",
    "                                                    random_state = 42)"
   ]
  },
  {
   "cell_type": "code",
   "execution_count": 25,
   "metadata": {},
   "outputs": [
    {
     "name": "stdout",
     "output_type": "stream",
     "text": [
      "(4160, 36) (1387, 36)\n"
     ]
    }
   ],
   "source": [
    "print(X_train.shape,X_test.shape)"
   ]
  },
  {
   "cell_type": "code",
   "execution_count": 26,
   "metadata": {},
   "outputs": [
    {
     "data": {
      "text/plain": [
       "0    5034\n",
       "1     513\n",
       "Name: label, dtype: int64"
      ]
     },
     "execution_count": 26,
     "metadata": {},
     "output_type": "execute_result"
    }
   ],
   "source": [
    "y.value_counts()"
   ]
  },
  {
   "cell_type": "code",
   "execution_count": 27,
   "metadata": {},
   "outputs": [
    {
     "data": {
      "text/plain": [
       "0    0.908413\n",
       "1    0.091587\n",
       "Name: label, dtype: float64"
      ]
     },
     "execution_count": 27,
     "metadata": {},
     "output_type": "execute_result"
    }
   ],
   "source": [
    "y_train.value_counts(normalize=True)"
   ]
  },
  {
   "cell_type": "code",
   "execution_count": 28,
   "metadata": {},
   "outputs": [
    {
     "data": {
      "text/plain": [
       "0    0.904831\n",
       "1    0.095169\n",
       "Name: label, dtype: float64"
      ]
     },
     "execution_count": 28,
     "metadata": {},
     "output_type": "execute_result"
    }
   ],
   "source": [
    "y_test.value_counts(normalize=True)"
   ]
  },
  {
   "cell_type": "code",
   "execution_count": 29,
   "metadata": {},
   "outputs": [],
   "source": [
    "# Banlance the train set with SMOTE\n",
    "sm = SMOTE()\n",
    "X_train_sm, y_train_sm = sm.fit_sample(X_train, y_train)"
   ]
  },
  {
   "cell_type": "code",
   "execution_count": 30,
   "metadata": {},
   "outputs": [
    {
     "name": "stdout",
     "output_type": "stream",
     "text": [
      "(7558, 36) (7558,)\n"
     ]
    },
    {
     "data": {
      "text/plain": [
       "1    0.5\n",
       "0    0.5\n",
       "Name: label, dtype: float64"
      ]
     },
     "execution_count": 30,
     "metadata": {},
     "output_type": "execute_result"
    }
   ],
   "source": [
    "print(X_train_sm.shape, y_train_sm.shape)\n",
    "y_train_sm.value_counts(normalize=True)"
   ]
  },
  {
   "cell_type": "code",
   "execution_count": 31,
   "metadata": {},
   "outputs": [
    {
     "name": "stdout",
     "output_type": "stream",
     "text": [
      "(2510, 36) (2510,)\n"
     ]
    },
    {
     "data": {
      "text/plain": [
       "1    0.5\n",
       "0    0.5\n",
       "Name: label, dtype: float64"
      ]
     },
     "execution_count": 31,
     "metadata": {},
     "output_type": "execute_result"
    }
   ],
   "source": [
    "# Banlance the train set with SMOTE\n",
    "\n",
    "X_test_sm, y_test_sm = sm.fit_sample(X_test, y_test)\n",
    "print(X_test_sm.shape, y_test_sm.shape)\n",
    "y_test_sm.value_counts(normalize=True)"
   ]
  },
  {
   "cell_type": "code",
   "execution_count": 30,
   "metadata": {},
   "outputs": [],
   "source": [
    "# StandardScaler\n",
    "# sc = StandardScaler()\n",
    "# X_train_sm_sc = sc.fit_transform(X_train_sm)\n",
    "# X_test_sm_sc = sc.transform(X_test_sm)\n",
    "# X_test_sc = sc.transform(X_test)"
   ]
  },
  {
   "cell_type": "code",
   "execution_count": null,
   "metadata": {},
   "outputs": [],
   "source": []
  },
  {
   "cell_type": "markdown",
   "metadata": {},
   "source": [
    "## Machine Learning Classification Models: Logistic Regression"
   ]
  },
  {
   "cell_type": "code",
   "execution_count": 18,
   "metadata": {},
   "outputs": [
    {
     "name": "stderr",
     "output_type": "stream",
     "text": [
      "/Users/susanchen/opt/anaconda3/lib/python3.7/site-packages/sklearn/linear_model/_logistic.py:940: ConvergenceWarning: lbfgs failed to converge (status=1):\n",
      "STOP: TOTAL NO. of ITERATIONS REACHED LIMIT.\n",
      "\n",
      "Increase the number of iterations (max_iter) or scale the data as shown in:\n",
      "    https://scikit-learn.org/stable/modules/preprocessing.html\n",
      "Please also refer to the documentation for alternative solver options:\n",
      "    https://scikit-learn.org/stable/modules/linear_model.html#logistic-regression\n",
      "  extra_warning_msg=_LOGISTIC_SOLVER_CONVERGENCE_MSG)\n"
     ]
    },
    {
     "data": {
      "text/plain": [
       "LogisticRegression(C=1.0, class_weight=None, dual=False, fit_intercept=True,\n",
       "                   intercept_scaling=1, l1_ratio=None, max_iter=100,\n",
       "                   multi_class='auto', n_jobs=None, penalty='l2',\n",
       "                   random_state=None, solver='lbfgs', tol=0.0001, verbose=0,\n",
       "                   warm_start=False)"
      ]
     },
     "execution_count": 18,
     "metadata": {},
     "output_type": "execute_result"
    }
   ],
   "source": [
    "model_lg = LogisticRegression()\n",
    "model_lg.fit(X_train_sm, y_train_sm)"
   ]
  },
  {
   "cell_type": "code",
   "execution_count": 44,
   "metadata": {},
   "outputs": [],
   "source": [
    "#cross_val_acc, train_acc, test_acc, sensitivity, specificity, precision, tp, fp "
   ]
  },
  {
   "cell_type": "code",
   "execution_count": 60,
   "metadata": {},
   "outputs": [
    {
     "name": "stderr",
     "output_type": "stream",
     "text": [
      "/Users/susanchen/opt/anaconda3/lib/python3.7/site-packages/ipykernel_launcher.py:11: RuntimeWarning: invalid value encountered in long_scalars\n",
      "  # This is added back by InteractiveShellApp.init_path()\n"
     ]
    }
   ],
   "source": [
    "model_lg = LogisticRegression()\n",
    "cross_val_acc, train_acc, test_acc, sensitivity, specificity, precision, tp, fp = model_work(model_lg, \n",
    "                                                                                             X_train_tfidf,\n",
    "                                                                                             y_train,\n",
    "                                                                                             X_test_tfidf,\n",
    "                                                                                             y_test)"
   ]
  },
  {
   "cell_type": "code",
   "execution_count": 67,
   "metadata": {},
   "outputs": [
    {
     "data": {
      "text/plain": [
       "(0.9177, 0.9255, 0.9229, 0.0, 0.990728476821192, 0.0, 0, 14)"
      ]
     },
     "execution_count": 67,
     "metadata": {},
     "output_type": "execute_result"
    }
   ],
   "source": [
    "cross_val_acc, train_acc, test_acc, sensitivity, specificity, precision, tp, fp"
   ]
  },
  {
   "cell_type": "markdown",
   "metadata": {},
   "source": [
    "## Machine Learning Classification Models: Random Forest"
   ]
  },
  {
   "cell_type": "code",
   "execution_count": null,
   "metadata": {},
   "outputs": [],
   "source": [
    "# The unbalanced train and test test didn't work\n",
    "# Try the balanced train set and didn't balanced test set"
   ]
  },
  {
   "cell_type": "code",
   "execution_count": 32,
   "metadata": {},
   "outputs": [],
   "source": [
    "model_rf1 = RandomForestClassifier(n_estimators=50, max_depth=2)\n",
    "model_rf1.fit(X_train_sm, y_train_sm)\n",
    "cross_val_acc1 = round(cross_val_score(model_rf1, X_train_sm, y_train_sm).mean(),4)\n",
    "train_acc1 = round(model_rf1.score(X_train_sm,y_train_sm),4)\n",
    "test_acc1 = round(model_rf1.score(X_test,y_test),4)\n",
    "preds1 = model_rf1.predict(X_test)\n",
    "tn, fp, fn, tp = confusion_matrix(y_test, preds1).ravel()"
   ]
  },
  {
   "cell_type": "code",
   "execution_count": 33,
   "metadata": {},
   "outputs": [
    {
     "name": "stdout",
     "output_type": "stream",
     "text": [
      " cross_val_acc = 0.7702\n",
      " train_acc = 0.7771 \n",
      " test_acc = 0.7231\n",
      " tn, fp, fn, tp (956, 299, 85, 47)\n"
     ]
    }
   ],
   "source": [
    "\n",
    "print(f' cross_val_acc = {cross_val_acc1}\\n train_acc = {train_acc1} \\n test_acc = {test_acc1}\\n tn, fp, fn, tp {tn, fp, fn, tp}' )"
   ]
  },
  {
   "cell_type": "code",
   "execution_count": 34,
   "metadata": {},
   "outputs": [
    {
     "data": {
      "text/plain": [
       "[(0.0963, 'time_in_hospital'),\n",
       " (0.0422, 'num_medications'),\n",
       " (0.0415, 'number_diagnoses'),\n",
       " (0.016, 'number_features_medications'),\n",
       " (0.0026, 'num_lab_procedures'),\n",
       " (0.0, 'number_outpatient'),\n",
       " (0.0, 'number_inpatient'),\n",
       " (0.0, 'number_emergency'),\n",
       " (0.0, 'num_procedures'),\n",
       " (0.0, 'age')]"
      ]
     },
     "execution_count": 34,
     "metadata": {},
     "output_type": "execute_result"
    }
   ],
   "source": [
    "feature_importance_tup = sorted(zip(map(lambda x: round(x, 4), model_rf1.feature_importances_), numerical_columns), reverse=True)\n",
    "feature_importance_tup[:30]"
   ]
  },
  {
   "cell_type": "code",
   "execution_count": null,
   "metadata": {},
   "outputs": [],
   "source": [
    "# Try the balanced train set and balanced test set"
   ]
  },
  {
   "cell_type": "code",
   "execution_count": 35,
   "metadata": {},
   "outputs": [
    {
     "name": "stdout",
     "output_type": "stream",
     "text": [
      " cross_val_acc = 0.7831\n",
      " train_acc = 0.7825 \n",
      " test_acc = 0.7821\n",
      " tn, fp, fn, tp (967, 288, 259, 996)\n"
     ]
    }
   ],
   "source": [
    "model_rf2 = RandomForestClassifier(n_estimators=50, max_depth=2)\n",
    "model_rf2.fit(X_train_sm, y_train_sm)\n",
    "cross_val_acc2 = round(cross_val_score(model_rf2, X_train_sm, y_train_sm).mean(),4)\n",
    "train_acc2 = round(model_rf2.score(X_train_sm,y_train_sm),4)\n",
    "test_acc2 = round(model_rf2.score(X_test_sm,y_test_sm),4)\n",
    "preds2 = model_rf2.predict(X_test_sm)\n",
    "tn, fp, fn, tp = confusion_matrix(y_test_sm, preds2).ravel()\n",
    "print(f' cross_val_acc = {cross_val_acc2}\\n train_acc = {train_acc2} \\n test_acc = {test_acc2}\\n tn, fp, fn, tp {tn, fp, fn, tp}' )"
   ]
  },
  {
   "cell_type": "code",
   "execution_count": 49,
   "metadata": {},
   "outputs": [],
   "source": [
    "# rf = RandomForestClassifier()\n",
    "# rf_params = {\n",
    "#     'n_estimators':[25,50,100],\n",
    "#     'max_depth':[3,4,5]\n",
    "# }\n",
    "\n",
    "# gs_rf = GridSearchCV(rf, \n",
    "#                      param_grid=rf_params,\n",
    "#                      cv=5)\n",
    "\n",
    "# gs_rf.fit(X_train_cvec, y_train)"
   ]
  },
  {
   "cell_type": "code",
   "execution_count": 50,
   "metadata": {},
   "outputs": [],
   "source": [
    "# print(gs_rf.best_score_)\n",
    "# print(gs_rf.best_params_)\n",
    "# print(gs_rf.score(X_test_cvec, y_test))"
   ]
  },
  {
   "cell_type": "markdown",
   "metadata": {},
   "source": [
    "## Machine Learning Classification Models: XG Boost"
   ]
  },
  {
   "cell_type": "code",
   "execution_count": null,
   "metadata": {},
   "outputs": [],
   "source": [
    "# The unbalanced train and test test didn't work\n",
    "# Try the balanced train set and didn't balanced test set"
   ]
  },
  {
   "cell_type": "code",
   "execution_count": 36,
   "metadata": {},
   "outputs": [],
   "source": [
    "model_xg1 = XGBClassifier()\n",
    "model_xg1.fit(X_train_sm, y_train_sm)\n",
    "cross_val_acc3 = round(cross_val_score(model_xg1, X_train_sm, y_train_sm).mean(),4)\n",
    "train_acc3 = round(model_xg1.score(X_train_sm,y_train_sm),4)\n",
    "test_acc3 = round(model_xg1.score(X_test,y_test),4)\n",
    "preds3 = model_xg1.predict(X_test)\n",
    "tn, fp, fn, tp = confusion_matrix(y_test, preds3).ravel()"
   ]
  },
  {
   "cell_type": "code",
   "execution_count": 37,
   "metadata": {},
   "outputs": [
    {
     "name": "stdout",
     "output_type": "stream",
     "text": [
      " cross_val_acc = 0.927\n",
      " train_acc = 0.9337 \n",
      " test_acc = 0.8962\n",
      " tn, fp, fn, tp (1242, 13, 131, 1)\n"
     ]
    }
   ],
   "source": [
    "print(f' cross_val_acc = {cross_val_acc3}\\n train_acc = {train_acc3} \\n test_acc = {test_acc3}\\n tn, fp, fn, tp {tn, fp, fn, tp}' )"
   ]
  },
  {
   "cell_type": "code",
   "execution_count": 38,
   "metadata": {},
   "outputs": [
    {
     "data": {
      "text/plain": [
       "[(0.1022, 'admission_type_id_Elective'),\n",
       " (0.0894, 'change_Ch'),\n",
       " (0.0773, 'diabetesMed_No'),\n",
       " (0.0654, 'discharge_disposition_id_home_care'),\n",
       " (0.0654, 'change_No'),\n",
       " (0.0558, 'discharge_disposition_id_home'),\n",
       " (0.0452, 'admission_type_id_Emergency'),\n",
       " (0.0449, 'admission_source_id_referral'),\n",
       " (0.0416, 'discharge_disposition_id_transferred'),\n",
       " (0.0404, 'race_Caucasian'),\n",
       " (0.0377, 'race_AfricanAmerican'),\n",
       " (0.0371, 'gender'),\n",
       " (0.0354, 'discharge_disposition_id_unknown'),\n",
       " (0.0351, 'diabetesMed_Yes'),\n",
       " (0.0312, 'admission_type_id_Unknown')]"
      ]
     },
     "execution_count": 38,
     "metadata": {},
     "output_type": "execute_result"
    }
   ],
   "source": [
    "feature_importance_xg = sorted(zip(map(lambda x: round(x, 4), model_xg1.feature_importances_), X_columns), reverse=True)\n",
    "feature_importance_xg[:15]"
   ]
  },
  {
   "cell_type": "code",
   "execution_count": 44,
   "metadata": {},
   "outputs": [
    {
     "name": "stderr",
     "output_type": "stream",
     "text": [
      "Setting feature_perturbation = \"tree_path_dependent\" because no background data was given.\n"
     ]
    },
    {
     "data": {
      "image/png": "[encoded data removed]",
      "text/plain": [
       "<Figure size 576x684 with 1 Axes>"
      ]
     },
     "metadata": {
      "needs_background": "light"
     },
     "output_type": "display_data"
    }
   ],
   "source": [
    "import shap\n",
    "shap_values = shap.TreeExplainer(model_xg2).shap_values(X_train_sm)\n",
    "shap.summary_plot(shap_values, X_train_sm, plot_type=\"bar\", feature_names=X_columns)"
   ]
  },
  {
   "cell_type": "code",
   "execution_count": 45,
   "metadata": {},
   "outputs": [
    {
     "data": {
      "image/png": "[encoded data removed]",
      "text/plain": [
       "<Figure size 576x684 with 2 Axes>"
      ]
     },
     "metadata": {
      "needs_background": "light"
     },
     "output_type": "display_data"
    }
   ],
   "source": [
    "shap.summary_plot(shap_values, X_train_sm,feature_names=X_columns)"
   ]
  },
  {
   "cell_type": "code",
   "execution_count": 43,
   "metadata": {},
   "outputs": [
    {
     "name": "stdout",
     "output_type": "stream",
     "text": [
      " cross_val_acc = 0.927\n",
      " train_acc = 0.9337 \n",
      " test_acc = 0.9303\n",
      " tn, fp, fn, tp (967, 288, 259, 996)\n"
     ]
    }
   ],
   "source": [
    "model_xg2 = XGBClassifier()\n",
    "model_xg2.fit(X_train_sm, y_train_sm)\n",
    "cross_val_acc4 = round(cross_val_score(model_xg2, X_train_sm, y_train_sm).mean(),4)\n",
    "train_acc4 = round(model_xg2.score(X_train_sm,y_train_sm),4)\n",
    "test_acc4 = round(model_xg2.score(X_test_sm,y_test_sm),4)\n",
    "preds4 = model_xg2.predict(X_test_sm)\n",
    "tn, fp, fn, tp = confusion_matrix(y_test_sm, preds2).ravel()\n",
    "print(f' cross_val_acc = {cross_val_acc4}\\n train_acc = {train_acc4} \\n test_acc = {test_acc4}\\n tn, fp, fn, tp {tn, fp, fn, tp}' )"
   ]
  },
  {
   "cell_type": "markdown",
   "metadata": {},
   "source": [
    "## Machine Learning Classification Models: SVM"
   ]
  },
  {
   "cell_type": "code",
   "execution_count": null,
   "metadata": {},
   "outputs": [],
   "source": [
    "# The unbalanced train and test test didn't work\n",
    "# Try the balanced train set and didn't balanced test set"
   ]
  },
  {
   "cell_type": "code",
   "execution_count": 48,
   "metadata": {},
   "outputs": [
    {
     "data": {
      "text/plain": [
       "0.5828685258964144"
      ]
     },
     "execution_count": 48,
     "metadata": {},
     "output_type": "execute_result"
    }
   ],
   "source": [
    "svc1 =SVC(gamma = 'scale', random_state=42)\n",
    "svc1.fit(X_train_sm, y_train_sm)\n",
    "\n",
    "y_pred1 = svc1.predict(X_test_sm)\n",
    "accuracy_score(y_test_sm, y_pred1)"
   ]
  },
  {
   "cell_type": "code",
   "execution_count": 50,
   "metadata": {},
   "outputs": [
    {
     "data": {
      "text/plain": [
       "(482, 773, 274, 981)"
      ]
     },
     "execution_count": 50,
     "metadata": {},
     "output_type": "execute_result"
    }
   ],
   "source": [
    "tn, fp, fn, tp = confusion_matrix(y_test_sm,y_pred1).ravel()\n",
    "tn, fp, fn, tp"
   ]
  },
  {
   "cell_type": "markdown",
   "metadata": {},
   "source": [
    "## Machine Learning Classification Models: FFNN(feed forward neutral network)"
   ]
  },
  {
   "cell_type": "code",
   "execution_count": 51,
   "metadata": {},
   "outputs": [
    {
     "data": {
      "text/plain": [
       "10"
      ]
     },
     "execution_count": 51,
     "metadata": {},
     "output_type": "execute_result"
    }
   ],
   "source": [
    "n_input = X_train_sm.shape[1]\n",
    "n_input"
   ]
  },
  {
   "cell_type": "code",
   "execution_count": 53,
   "metadata": {},
   "outputs": [
    {
     "name": "stdout",
     "output_type": "stream",
     "text": [
      "Train on 7558 samples, validate on 2510 samples\n",
      "Epoch 1/10\n",
      " - 1s - loss: 1.6479 - acc: 0.5030 - val_loss: 1.0633 - val_acc: 0.5382\n",
      "Epoch 2/10\n",
      " - 0s - loss: 0.9455 - acc: 0.5261 - val_loss: 0.8489 - val_acc: 0.5390\n",
      "Epoch 3/10\n",
      " - 0s - loss: 0.8123 - acc: 0.5406 - val_loss: 0.7744 - val_acc: 0.5717\n",
      "Epoch 4/10\n",
      " - 0s - loss: 0.7634 - acc: 0.5564 - val_loss: 0.7414 - val_acc: 0.5745\n",
      "Epoch 5/10\n",
      " - 0s - loss: 0.7415 - acc: 0.5635 - val_loss: 0.7303 - val_acc: 0.5797\n",
      "Epoch 6/10\n",
      " - 0s - loss: 0.7306 - acc: 0.5609 - val_loss: 0.7211 - val_acc: 0.5932\n",
      "Epoch 7/10\n",
      " - 0s - loss: 0.7213 - acc: 0.5732 - val_loss: 0.7256 - val_acc: 0.5514\n",
      "Epoch 8/10\n",
      " - 0s - loss: 0.7147 - acc: 0.5789 - val_loss: 0.7110 - val_acc: 0.5749\n",
      "Epoch 9/10\n",
      " - 0s - loss: 0.7112 - acc: 0.5725 - val_loss: 0.7249 - val_acc: 0.5355\n",
      "Epoch 10/10\n",
      " - 0s - loss: 0.7078 - acc: 0.5728 - val_loss: 0.7023 - val_acc: 0.5578\n"
     ]
    }
   ],
   "source": [
    "model_ffnn = Sequential()\n",
    "\n",
    "lam=0.09\n",
    "model_ffnn.add(Dense(n_input,\n",
    "                   input_dim = n_input,\n",
    "                   activation = 'relu',\n",
    "                   kernel_regularizer = regularizers.l2(lam)\n",
    "                       ))\n",
    "model_dropout = Sequential()\n",
    "model_dropout.add(Dropout(0.5))\n",
    "model_ffnn.add(Dense(1,\n",
    "                   activation='sigmoid'))\n",
    "\n",
    "model_ffnn.compile(loss='binary_crossentropy',\n",
    "                 optimizer='adam',\n",
    "                 metrics=['acc'])\n",
    "early_stop = EarlyStopping(monitor = 'val_loss', \n",
    "                           min_delta=0, \n",
    "                           patience=5,\n",
    "                           mode='auto')\n",
    "history_all = model_ffnn.fit(X_train_sm,\n",
    "                          y_train_sm,\n",
    "                          validation_data=(X_test_sm,y_test_sm),\n",
    "                          epochs=10,\n",
    "                          batch_size=None,\n",
    "                          verbose=2,\n",
    "                          callbacks=[early_stop]\n",
    "                          )"
   ]
  },
  {
   "cell_type": "code",
   "execution_count": 54,
   "metadata": {},
   "outputs": [
    {
     "data": {
      "image/png": "[encoded data removed]",
      "text/plain": [
       "<Figure size 864x576 with 1 Axes>"
      ]
     },
     "metadata": {
      "needs_background": "light"
     },
     "output_type": "display_data"
    }
   ],
   "source": [
    "train_loss_all = history_all.history['loss']\n",
    "test_loss_all = history_all.history['val_loss']\n",
    "plt.figure(figsize=(12, 8))\n",
    "plt.plot(train_loss_all, label='Training loss', color='navy')\n",
    "plt.plot(test_loss_all, label='Testing loss', color='skyblue')\n",
    "plt.legend();"
   ]
  },
  {
   "cell_type": "code",
   "execution_count": 55,
   "metadata": {},
   "outputs": [
    {
     "data": {
      "text/plain": [
       "(0.5727706, 0.5577689409255981)"
      ]
     },
     "execution_count": 55,
     "metadata": {},
     "output_type": "execute_result"
    }
   ],
   "source": [
    "history_all.history['acc'][-1], history_all.history['val_acc'][-1]"
   ]
  },
  {
   "cell_type": "code",
   "execution_count": null,
   "metadata": {},
   "outputs": [],
   "source": []
  }
 ],
 "metadata": {
  "kernelspec": {
   "display_name": "Python 3",
   "language": "python",
   "name": "python3"
  },
  "language_info": {
   "codemirror_mode": {
    "name": "ipython",
    "version": 3
   },
   "file_extension": ".py",
   "mimetype": "text/x-python",
   "name": "python",
   "nbconvert_exporter": "python",
   "pygments_lexer": "ipython3",
   "version": "3.7.4"
  }
 },
 "nbformat": 4,
 "nbformat_minor": 2
}
